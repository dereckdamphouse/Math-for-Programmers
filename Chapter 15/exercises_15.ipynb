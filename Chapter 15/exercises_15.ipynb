{
 "cells": [
  {
   "cell_type": "code",
   "execution_count": 1,
   "id": "978507cf",
   "metadata": {},
   "outputs": [],
   "source": [
    "import matplotlib.pyplot as plt\n",
    "import numpy as np\n",
    "from matplotlib import cm\n",
    "from mpl_toolkits.mplot3d import Axes3D"
   ]
  },
  {
   "cell_type": "code",
   "execution_count": 2,
   "id": "3a9b7103",
   "metadata": {},
   "outputs": [],
   "source": [
    "def plot_function(f,xmin,xmax,**kwargs):\n",
    "    ts = np.linspace(xmin,xmax,1000)\n",
    "    plt.plot(ts,[f(t) for t in ts],**kwargs)\n",
    "    \n",
    "def scalar_field_heatmap(f,xmin,xmax,ymin,ymax,xsteps=100,ysteps=100):\n",
    "    fig = plt.figure()\n",
    "    fig.set_size_inches(7,7)\n",
    "    fv = np.vectorize(f)\n",
    "    X = np.linspace(xmin, xmax, xsteps)\n",
    "    Y = np.linspace(ymin, ymax, ysteps)\n",
    "    X, Y = np.meshgrid(X, Y)\n",
    "    z = fv(X,Y)\n",
    "    fig, ax = plt.subplots()\n",
    "    c = ax.pcolormesh(X,Y,z, cmap='plasma')\n",
    "    ax.axis([X.min(), X.max(), Y.min(), Y.max()])\n",
    "    fig.colorbar(c, ax=ax)\n",
    "    \n",
    "def plot_scalar_field(f,xmin,xmax,ymin,ymax,xsteps=100,ysteps=100,c=None,cmap=cm.coolwarm,alpha=1,antialiased=False, zorder=0):\n",
    "    fig = plt.gcf()\n",
    "    fig.set_size_inches(7,7)\n",
    "    ax = fig.gca(projection='3d')\n",
    "\n",
    "    fv = np.vectorize(f)\n",
    "    \n",
    "    # Make data.\n",
    "    X = np.linspace(xmin, xmax, xsteps)\n",
    "    Y = np.linspace(ymin, ymax, ysteps)\n",
    "    X, Y = np.meshgrid(X, Y)\n",
    "    Z = fv(X,Y)\n",
    "\n",
    "    # Plot the surface.\n",
    "    surf = ax.plot_surface(X, Y, Z, cmap=cmap,color=c,alpha=alpha,\n",
    "                           linewidth=0, antialiased=antialiased, zorder=zorder)"
   ]
  },
  {
   "cell_type": "code",
   "execution_count": 3,
   "id": "0d414c2d",
   "metadata": {},
   "outputs": [],
   "source": [
    "def bmw_finder(mileage,price):\n",
    "    if price > 25000:\n",
    "        return 1\n",
    "    else:\n",
    "        return 0"
   ]
  },
  {
   "cell_type": "code",
   "execution_count": 4,
   "id": "2ba361f6",
   "metadata": {},
   "outputs": [],
   "source": [
    "from car_data import bmws, priuses"
   ]
  },
  {
   "cell_type": "code",
   "execution_count": 5,
   "id": "7e40510e",
   "metadata": {},
   "outputs": [],
   "source": [
    "all_car_data = []"
   ]
  },
  {
   "cell_type": "code",
   "execution_count": 6,
   "id": "80fc88dd",
   "metadata": {},
   "outputs": [],
   "source": [
    "for bmw in bmws:\n",
    "    all_car_data.append((bmw.mileage,bmw.price,1))\n",
    "for prius in priuses:\n",
    "    all_car_data.append((prius.mileage,prius.price,0))"
   ]
  },
  {
   "cell_type": "code",
   "execution_count": 9,
   "id": "1c5cbdf1",
   "metadata": {},
   "outputs": [],
   "source": [
    "def test_classifier(classifier,data):\n",
    "    trues = 0\n",
    "    falses = 0\n",
    "    true_positives = 0\n",
    "    true_negatives = 0\n",
    "    false_positives = 0\n",
    "    false_negatives = 0\n",
    "    for mileage, price, is_bmw in data:\n",
    "        res = classifier(mileage,price)\n",
    "        if res == is_bmw:\n",
    "            trues += 1\n",
    "            if res == 1:\n",
    "                true_positives += 1\n",
    "            else:\n",
    "                true_negatives += 1\n",
    "        else:\n",
    "            falses += 1\n",
    "            if res == 1:\n",
    "                false_positives += 1\n",
    "            else:\n",
    "                false_negatives += 1\n",
    "    print(\"true positives %f\" % true_positives)\n",
    "    print(\"true negatives %f\" % true_negatives)\n",
    "    print(\"false positives %f\" % false_positives)\n",
    "    print(\"false negatives %f\" % false_negatives)\n",
    "    return trues / (trues+falses)"
   ]
  },
  {
   "cell_type": "code",
   "execution_count": 10,
   "id": "e8a4fb53",
   "metadata": {},
   "outputs": [
    {
     "name": "stdout",
     "output_type": "stream",
     "text": [
      "true positives 18.000000\n",
      "true negatives 100.000000\n",
      "false positives 0.000000\n",
      "false negatives 82.000000\n"
     ]
    },
    {
     "data": {
      "text/plain": [
       "0.59"
      ]
     },
     "execution_count": 10,
     "metadata": {},
     "output_type": "execute_result"
    }
   ],
   "source": [
    "test_classifier(bmw_finder,all_car_data)"
   ]
  },
  {
   "cell_type": "code",
   "execution_count": 12,
   "id": "80237ed1",
   "metadata": {},
   "outputs": [],
   "source": [
    "def plot_data(ds):\n",
    "    plt.scatter([d[0] for d in ds if d[2]==0],[d[1] for d in ds if d[2]==0],c='C1')\n",
    "    plt.scatter([d[0] for d in ds if d[2]==1],[d[1] for d in ds if d[2]==1],c='C0',marker='x')\n",
    "    plt.ylabel(\"Price ($)\",fontsize=16)\n",
    "    plt.xlabel(\"Odometer (mi)\",fontsize=16)"
   ]
  },
  {
   "cell_type": "code",
   "execution_count": 13,
   "id": "d15a109b",
   "metadata": {},
   "outputs": [
    {
     "data": {
      "image/png": "[encoded data removed]",
      "text/plain": [
       "<Figure size 432x288 with 1 Axes>"
      ]
     },
     "metadata": {
      "needs_background": "light"
     },
     "output_type": "display_data"
    }
   ],
   "source": [
    "plot_data(all_car_data)"
   ]
  },
  {
   "cell_type": "code",
   "execution_count": 16,
   "id": "8f1f3e0f",
   "metadata": {},
   "outputs": [],
   "source": [
    "def decision_boundary_classify(mileage,price):\n",
    "    if price > 21000 - 0.07 * mileage:\n",
    "        return 1\n",
    "    else:\n",
    "        return 0"
   ]
  },
  {
   "cell_type": "code",
   "execution_count": 17,
   "id": "b7267e02",
   "metadata": {},
   "outputs": [
    {
     "name": "stdout",
     "output_type": "stream",
     "text": [
      "true positives 73.000000\n",
      "true negatives 88.000000\n",
      "false positives 12.000000\n",
      "false negatives 27.000000\n"
     ]
    },
    {
     "data": {
      "text/plain": [
       "0.805"
      ]
     },
     "execution_count": 17,
     "metadata": {},
     "output_type": "execute_result"
    }
   ],
   "source": [
    "test_classifier(decision_boundary_classify,all_car_data)"
   ]
  },
  {
   "cell_type": "code",
   "execution_count": 18,
   "id": "55250b77",
   "metadata": {},
   "outputs": [],
   "source": [
    "def make_scale(data):\n",
    "    min_val = min(data)\n",
    "    max_val = max(data)\n",
    "    def scale(x):\n",
    "        return (x-min_val) / (max_val-min_val)\n",
    "    def unscale(y):\n",
    "        return y*(max_val-min_val) + min_val\n",
    "    return scale, unscale"
   ]
  },
  {
   "cell_type": "code",
   "execution_count": 19,
   "id": "b2f9d711",
   "metadata": {},
   "outputs": [],
   "source": [
    "price_scale, price_unscale = make_scale([x[1] for x in all_car_data])\n",
    "mileage_scale, mileage_unscale = make_scale([x[0] for x in all_car_data])"
   ]
  },
  {
   "cell_type": "code",
   "execution_count": 20,
   "id": "80d4b146",
   "metadata": {},
   "outputs": [],
   "source": [
    "scaled_car_data = [(mileage_scale(mileage), price_scale(price), is_bmw) for mileage,price,is_bmw in all_car_data]"
   ]
  },
  {
   "cell_type": "code",
   "execution_count": 21,
   "id": "7094e478",
   "metadata": {},
   "outputs": [
    {
     "data": {
      "image/png": "[encoded data removed]",
      "text/plain": [
       "<Figure size 432x288 with 1 Axes>"
      ]
     },
     "metadata": {
      "needs_background": "light"
     },
     "output_type": "display_data"
    }
   ],
   "source": [
    "plot_data(scaled_car_data)"
   ]
  },
  {
   "cell_type": "code",
   "execution_count": 22,
   "id": "fceae52f",
   "metadata": {},
   "outputs": [
    {
     "data": {
      "image/png": "[encoded data removed]",
      "text/plain": [
       "<Figure size 432x288 with 1 Axes>"
      ]
     },
     "metadata": {
      "needs_background": "light"
     },
     "output_type": "display_data"
    }
   ],
   "source": [
    "plot_data(all_car_data)"
   ]
  },
  {
   "cell_type": "code",
   "execution_count": 30,
   "id": "0d8a0fd6",
   "metadata": {},
   "outputs": [],
   "source": [
    "from math import exp, log"
   ]
  },
  {
   "cell_type": "code",
   "execution_count": 31,
   "id": "9742e392",
   "metadata": {},
   "outputs": [],
   "source": [
    "def sigmoid(x):\n",
    "    return 1/(1+exp(-x))"
   ]
  },
  {
   "cell_type": "code",
   "execution_count": 32,
   "id": "2a1e9522",
   "metadata": {},
   "outputs": [],
   "source": [
    "def make_logistic(a,b,c):\n",
    "    def l(x,p):\n",
    "        return sigmoid(a*x+b*p-c)\n",
    "    return l"
   ]
  },
  {
   "cell_type": "code",
   "execution_count": 33,
   "id": "b6e3e637",
   "metadata": {},
   "outputs": [],
   "source": [
    "def simple_logistic_cost(a,b,c):\n",
    "    l = make_logistic(a,b,c)\n",
    "    errors = [abs(is_bmw-l(x,p)) for x,p,is_bmw in scaled_car_data]\n",
    "    return sum(errors)"
   ]
  },
  {
   "cell_type": "code",
   "execution_count": 36,
   "id": "ce8d10b8",
   "metadata": {},
   "outputs": [],
   "source": [
    "def point_cost(l,x,p,is_bmw):\n",
    "    wrong = 1 - is_bmw\n",
    "    return -log(abs(wrong - l(x,p)))"
   ]
  },
  {
   "cell_type": "code",
   "execution_count": 37,
   "id": "ea7d4238",
   "metadata": {},
   "outputs": [],
   "source": [
    "def logistic_cost(a,b,c):\n",
    "    l = make_logistic(a,b,c)\n",
    "    errors = [point_cost(l,x,p,is_bmw) for x,p,is_bmw in scaled_car_data]\n",
    "    return sum(errors)"
   ]
  },
  {
   "cell_type": "code",
   "execution_count": 38,
   "id": "a30b0e98",
   "metadata": {},
   "outputs": [],
   "source": [
    "def plot_line(acoeff,bcoeff,ccoeff,**kwargs):\n",
    "    a,b,c = acoeff, bcoeff, ccoeff\n",
    "    \n",
    "    # black by default\n",
    "    if 'c' not in kwargs:\n",
    "        kwargs['c'] = 'k'\n",
    "        \n",
    "    if b == 0:\n",
    "        plt.plot([c/a,c/a],[0,1])\n",
    "    else:\n",
    "        def y(x):\n",
    "            return (c-a*x)/b\n",
    "        plt.plot([0,1],[y(0),y(1)],**kwargs)"
   ]
  },
  {
   "cell_type": "code",
   "execution_count": 39,
   "id": "cb392710",
   "metadata": {},
   "outputs": [
    {
     "data": {
      "image/png": "[encoded data removed]",
      "text/plain": [
       "<Figure size 432x288 with 1 Axes>"
      ]
     },
     "metadata": {
      "needs_background": "light"
     },
     "output_type": "display_data"
    }
   ],
   "source": [
    "plot_data(scaled_car_data)\n",
    "plot_line(0.35,1,0.56)\n",
    "plot_line(1,1,1)"
   ]
  },
  {
   "cell_type": "code",
   "execution_count": 40,
   "id": "372e0bff",
   "metadata": {},
   "outputs": [
    {
     "data": {
      "text/plain": [
       "130.92490748700456"
      ]
     },
     "execution_count": 40,
     "metadata": {},
     "output_type": "execute_result"
    }
   ],
   "source": [
    "logistic_cost(0.35,1,0.56)"
   ]
  },
  {
   "cell_type": "code",
   "execution_count": 41,
   "id": "2647e7d8",
   "metadata": {},
   "outputs": [
    {
     "data": {
      "text/plain": [
       "135.56446830870456"
      ]
     },
     "execution_count": 41,
     "metadata": {},
     "output_type": "execute_result"
    }
   ],
   "source": [
    "logistic_cost(1,1,1)"
   ]
  },
  {
   "cell_type": "code",
   "execution_count": 42,
   "id": "0072659b",
   "metadata": {},
   "outputs": [],
   "source": [
    "from math import sqrt\n",
    "def length(v):\n",
    "    return sqrt(sum([vi*vi for vi in v]))\n",
    "\n",
    "def secant_slope(f,xmin,xmax):\n",
    "    return (f(xmax) - f(xmin)) / (xmax - xmin)\n",
    "\n",
    "def approx_derivative(f,x,dx=1e-6):\n",
    "    return secant_slope(f,x-dx,x+dx)"
   ]
  },
  {
   "cell_type": "code",
   "execution_count": 43,
   "id": "574a908b",
   "metadata": {},
   "outputs": [],
   "source": [
    "def approx_gradient3(f,x0,y0,z0,dx=1e-6):\n",
    "    partial_x = approx_derivative(lambda x:f(x,y0,z0),x0,dx=dx)\n",
    "    partial_y = approx_derivative(lambda y:f(x0,y,z0),y0,dx=dx)\n",
    "    partial_z = approx_derivative(lambda z:f(x0,y0,z),z0,dx=dx)\n",
    "    return (partial_x, partial_y, partial_z)"
   ]
  },
  {
   "cell_type": "code",
   "execution_count": 54,
   "id": "c8dd7954",
   "metadata": {},
   "outputs": [],
   "source": [
    "def gradient_descent3(f,xstart,ystart,zstart,tolerance=1e-6,max_steps=1000):\n",
    "    x = xstart\n",
    "    y = ystart\n",
    "    z = zstart\n",
    "    grad = approx_gradient3(f,x,y,z)\n",
    "    steps = 0\n",
    "    while length(grad) > tolerance and steps < max_steps:\n",
    "        x -= 0.01 * grad[0]\n",
    "        y -= 0.01 * grad[1]\n",
    "        z -= 0.01 * grad[2]\n",
    "        grad = approx_gradient3(f,x,y,z)\n",
    "        steps += 1\n",
    "    print(\"total steps taken %f\" % steps)\n",
    "    return x,y,z"
   ]
  },
  {
   "cell_type": "code",
   "execution_count": 55,
   "id": "51f56470",
   "metadata": {},
   "outputs": [
    {
     "name": "stdout",
     "output_type": "stream",
     "text": [
      "total steps taken 100.000000\n"
     ]
    },
    {
     "data": {
      "text/plain": [
       "(0.21114493148496014, 5.045439728207488, 2.1260122566471376)"
      ]
     },
     "execution_count": 55,
     "metadata": {},
     "output_type": "execute_result"
    }
   ],
   "source": [
    "gradient_descent3(logistic_cost,1,1,1,max_steps=100)"
   ]
  },
  {
   "cell_type": "code",
   "execution_count": 56,
   "id": "5e6005cd",
   "metadata": {},
   "outputs": [
    {
     "name": "stdout",
     "output_type": "stream",
     "text": [
      "total steps taken 200.000000\n"
     ]
    },
    {
     "data": {
      "text/plain": [
       "(0.8845715265377516, 6.65754318727634, 2.9550572849988455)"
      ]
     },
     "execution_count": 56,
     "metadata": {},
     "output_type": "execute_result"
    }
   ],
   "source": [
    "gradient_descent3(logistic_cost,1,1,1,max_steps=200)"
   ]
  },
  {
   "cell_type": "code",
   "execution_count": 57,
   "id": "882d1f15",
   "metadata": {},
   "outputs": [
    {
     "name": "stdout",
     "output_type": "stream",
     "text": [
      "total steps taken 7243.000000\n"
     ]
    },
    {
     "data": {
      "text/plain": [
       "(3.7167003088210118, 11.422062406779267, 5.596878365032182)"
      ]
     },
     "execution_count": 57,
     "metadata": {},
     "output_type": "execute_result"
    }
   ],
   "source": [
    "gradient_descent3(logistic_cost,1,1,1,max_steps=8000)"
   ]
  },
  {
   "cell_type": "code",
   "execution_count": 58,
   "id": "910ad900",
   "metadata": {},
   "outputs": [
    {
     "data": {
      "image/png": "[encoded data removed]",
      "text/plain": [
       "<Figure size 432x288 with 1 Axes>"
      ]
     },
     "metadata": {
      "needs_background": "light"
     },
     "output_type": "display_data"
    }
   ],
   "source": [
    "plot_data(scaled_car_data)\n",
    "plot_line(0.35,1,0.56)\n",
    "plot_line(3.7167003088210118, 11.422062406779267, 5.596878365032182)"
   ]
  },
  {
   "cell_type": "code",
   "execution_count": 59,
   "id": "5a7ffad6",
   "metadata": {},
   "outputs": [],
   "source": [
    "def best_logistic_classifier(x,p):\n",
    "    l = make_logistic(3.7167003088210118, 11.422062406779267, 5.596878365032182)\n",
    "    if l(x,p) > 0.5:\n",
    "        return 1\n",
    "    else:\n",
    "        return 0"
   ]
  },
  {
   "cell_type": "code",
   "execution_count": 60,
   "id": "570c5b8b",
   "metadata": {},
   "outputs": [
    {
     "name": "stdout",
     "output_type": "stream",
     "text": [
      "true positives 73.000000\n",
      "true negatives 87.000000\n",
      "false positives 13.000000\n",
      "false negatives 27.000000\n"
     ]
    },
    {
     "data": {
      "text/plain": [
       "0.8"
      ]
     },
     "execution_count": 60,
     "metadata": {},
     "output_type": "execute_result"
    }
   ],
   "source": [
    "test_classifier(best_logistic_classifier, scaled_car_data)"
   ]
  },
  {
   "cell_type": "code",
   "execution_count": 101,
   "id": "2417f0a7",
   "metadata": {},
   "outputs": [],
   "source": [
    "def approx_gradient(f,*args,dx=1e-6):\n",
    "    res = []\n",
    "    def coefficents(coeff,i):\n",
    "        arguments = [*args]\n",
    "        arguments[i] = coeff\n",
    "        return arguments\n",
    "    for i in range(0, len(args)):\n",
    "        res.append(approx_derivative(lambda coeff:f(*coefficents(coeff,i)),args[i],dx=dx))\n",
    "    return res"
   ]
  },
  {
   "cell_type": "code",
   "execution_count": 114,
   "id": "705cf0e1",
   "metadata": {},
   "outputs": [],
   "source": [
    "def gradient_descent(f,vstart,tolerance=1e-6,max_steps=1000):\n",
    "    v = vstart\n",
    "    grad = approx_gradient(f,*v)\n",
    "    steps = 0\n",
    "    while length(grad) > tolerance and steps < max_steps:\n",
    "        v = [(vi - 0.01 * dvi) for vi,dvi in zip(v,grad)]\n",
    "        grad = approx_gradient(f,*v)\n",
    "        steps += 1\n",
    "    return v"
   ]
  },
  {
   "cell_type": "code",
   "execution_count": 115,
   "id": "a012a8cf",
   "metadata": {},
   "outputs": [],
   "source": [
    "def sum_squares(*v):\n",
    "    return sum([(x-1)**2 for x in v])"
   ]
  },
  {
   "cell_type": "code",
   "execution_count": 116,
   "id": "eb4c64f7",
   "metadata": {},
   "outputs": [],
   "source": [
    "v = [2,2,2,2,2]"
   ]
  },
  {
   "cell_type": "code",
   "execution_count": 117,
   "id": "725aed22",
   "metadata": {},
   "outputs": [
    {
     "data": {
      "text/plain": [
       "[1.0000002235452137,\n",
       " 1.0000002235452137,\n",
       " 1.0000002235452137,\n",
       " 1.0000002235452137,\n",
       " 1.0000002235452137]"
      ]
     },
     "execution_count": 117,
     "metadata": {},
     "output_type": "execute_result"
    }
   ],
   "source": [
    "gradient_descent(sum_squares,v)"
   ]
  },
  {
   "cell_type": "code",
   "execution_count": null,
   "id": "187252bc",
   "metadata": {},
   "outputs": [],
   "source": []
  }
 ],
 "metadata": {
  "kernelspec": {
   "display_name": "Python 3",
   "language": "python",
   "name": "python3"
  },
  "language_info": {
   "codemirror_mode": {
    "name": "ipython",
    "version": 3
   },
   "file_extension": ".py",
   "mimetype": "text/x-python",
   "name": "python",
   "nbconvert_exporter": "python",
   "pygments_lexer": "ipython3",
   "version": "3.9.4"
  }
 },
 "nbformat": 4,
 "nbformat_minor": 5
}
