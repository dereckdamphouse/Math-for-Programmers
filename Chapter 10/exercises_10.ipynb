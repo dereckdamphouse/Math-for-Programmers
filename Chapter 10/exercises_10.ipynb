{
 "cells": [
  {
   "cell_type": "code",
   "execution_count": 327,
   "id": "69132856",
   "metadata": {},
   "outputs": [],
   "source": [
    "from math import sin, log, cos\n",
    "from abc import ABC, abstractmethod"
   ]
  },
  {
   "cell_type": "code",
   "execution_count": 328,
   "id": "e624e1e5",
   "metadata": {},
   "outputs": [],
   "source": [
    "def f(x):\n",
    "    return (3*x**2 + x) * sin(x)"
   ]
  },
  {
   "cell_type": "code",
   "execution_count": 329,
   "id": "9055bf90",
   "metadata": {},
   "outputs": [],
   "source": [
    "def package(maybe_expression):\n",
    "    if isinstance(maybe_expression,Expression):\n",
    "        return maybe_expression\n",
    "    elif isinstance(maybe_expression,int) or isinstance(maybe_expression,float):\n",
    "        return Number(maybe_expression)\n",
    "    else:\n",
    "        raise ValueError(\"can't convert {} to expression.\".format(maybe_expression))"
   ]
  },
  {
   "cell_type": "code",
   "execution_count": 330,
   "id": "e1b8a480",
   "metadata": {},
   "outputs": [],
   "source": [
    "class Expression(ABC):\n",
    "    @abstractmethod\n",
    "    def evaluate(self,**bindings):\n",
    "        pass\n",
    "    @abstractmethod\n",
    "    def expand(self):\n",
    "        pass\n",
    "    def __repr__(self):\n",
    "        return self.display()\n",
    "    def __add__(self, other):\n",
    "        return Sum(self,package(other))\n",
    "    def __sub__(self,other):\n",
    "        return Difference(self,package(other))\n",
    "    def __mul__(self,other):\n",
    "        return Product(self,package(other))\n",
    "    def __rmul__(self,other):\n",
    "        return Product(package(other),self)\n",
    "    def __truediv__(self,other):\n",
    "        return Quotient(self,package(other))\n",
    "    def __pow__(self,other):\n",
    "        return Power(self,package(other))"
   ]
  },
  {
   "cell_type": "code",
   "execution_count": 331,
   "id": "fc2bc77f",
   "metadata": {},
   "outputs": [],
   "source": [
    "class Power(Expression):\n",
    "    def __init__(self,base,exponent):\n",
    "        self.base = base\n",
    "        self.exponent = exponent\n",
    "    def evaluate(self, **bindings):\n",
    "        return self.base.evaluate(**bindings) ** self.exponent.evaluate(**bindings)\n",
    "    def expand(self):\n",
    "        return self\n",
    "    def display(self):\n",
    "        return \"Power({},{})\".format(self.base.display(),self.exponent.display())"
   ]
  },
  {
   "cell_type": "code",
   "execution_count": 332,
   "id": "be57dec5",
   "metadata": {},
   "outputs": [],
   "source": [
    "class Number(Expression):\n",
    "    def __init__(self,number):\n",
    "        self.number = number\n",
    "    def evaluate(self,**bindings):\n",
    "        return self.number\n",
    "    def expand(self):\n",
    "        return self\n",
    "    def display(self):\n",
    "        return \"Number({})\".format(self.number)"
   ]
  },
  {
   "cell_type": "code",
   "execution_count": 333,
   "id": "58aeb97b",
   "metadata": {},
   "outputs": [],
   "source": [
    "class Variable(Expression):\n",
    "    def __init__(self,symbol):\n",
    "        self.symbol = symbol\n",
    "    def evaluate(self,**bindings):\n",
    "        try:\n",
    "            return bindings[self.symbol]\n",
    "        except:\n",
    "            raise KeyError(\"Variable '{}' is not bound.\".format(self.symbol))\n",
    "    def expand(self):\n",
    "        return self\n",
    "    def display(self):\n",
    "        return \"Variable(\\\"{}\\\")\".format(self.symbol)"
   ]
  },
  {
   "cell_type": "code",
   "execution_count": 334,
   "id": "58eeab2e",
   "metadata": {},
   "outputs": [],
   "source": [
    "class Product(Expression):\n",
    "    def __init__(self,exp1,exp2):\n",
    "        self.exp1 = exp1\n",
    "        self.exp2 = exp2\n",
    "    def evaluate(self,**bindings):\n",
    "        return self.exp1.evaluate(**bindings) * self.exp2.evaluate(**bindings)\n",
    "    def expand(self):\n",
    "        expanded1 = self.exp1.expand()\n",
    "        expanded2 = self.exp2.expand()\n",
    "        if isinstance(expanded1,Sum):\n",
    "            return Sum(*[Product(e,expanded2).expand() for e in expanded1.exps])\n",
    "        elif isinstance(expanded2,Sum):\n",
    "            return Sum(*[Product(expanded1,e) for e in expanded2.exps])\n",
    "        else:\n",
    "            return Product(expanded1,expanded2)\n",
    "    def display(self):\n",
    "        return \"Product({},{})\".format(self.exp1.display(),self.exp2.display())"
   ]
  },
  {
   "cell_type": "code",
   "execution_count": 335,
   "id": "15cf2f11",
   "metadata": {},
   "outputs": [],
   "source": [
    "class Sum(Expression):\n",
    "    def __init__(self,*exps):\n",
    "        self.exps = exps\n",
    "    def evaluate(self, **bindings):\n",
    "        return sum([exp.evaluate(**bindings) for exp in self.exps])\n",
    "    def expand(self):\n",
    "        return Sum(*[exp.expand() for exp in self.exps])\n",
    "    def display(self):\n",
    "        return \"Sum({})\".format(\",\".join([e.display() for e in self.exps]))"
   ]
  },
  {
   "cell_type": "code",
   "execution_count": 336,
   "id": "6800a07c",
   "metadata": {},
   "outputs": [],
   "source": [
    "class Function():\n",
    "    def __init__(self,name):\n",
    "        self.name = name"
   ]
  },
  {
   "cell_type": "code",
   "execution_count": 337,
   "id": "a0af6ec4",
   "metadata": {},
   "outputs": [],
   "source": [
    "class Apply(Expression):\n",
    "    def __init__(self,function,argument):\n",
    "        self.function = function\n",
    "        self.argument = argument\n",
    "    def evaluate(self,**bindings):\n",
    "        return _function_bindings[self.function.name](self.argument.evaluate(**bindings))\n",
    "    def expand(self):\n",
    "        return Apply(self.function,self.argument.expand())\n",
    "    def display(self):\n",
    "        return \"Apply(Function(\\\"{}\\\"),{})\".format(self.function.name, self.argument.display())"
   ]
  },
  {
   "cell_type": "code",
   "execution_count": 338,
   "id": "d2a40f23",
   "metadata": {},
   "outputs": [],
   "source": [
    "# (3*x**2 + x) * sin(x)\n",
    "f_expression = Product(\n",
    "                Sum(\n",
    "                    Product(\n",
    "                        Number(3),\n",
    "                        Power(\n",
    "                            Variable(\"x\"),\n",
    "                            Number(2)\n",
    "                        )\n",
    "                    ),\n",
    "                    Variable(\"x\")\n",
    "                ),\n",
    "                Apply(\n",
    "                    Function(\"sin\"),\n",
    "                    Variable(\"x\")\n",
    "                )\n",
    "            )"
   ]
  },
  {
   "cell_type": "code",
   "execution_count": 339,
   "id": "68a2cec9",
   "metadata": {},
   "outputs": [],
   "source": [
    "def log_function(y,z):\n",
    "    return log(y**z)"
   ]
  },
  {
   "cell_type": "code",
   "execution_count": 340,
   "id": "3d633b77",
   "metadata": {},
   "outputs": [],
   "source": [
    "log_expression = Apply(Function(\"ln\"),Power(Variable(\"y\"),Variable(\"z\")))"
   ]
  },
  {
   "cell_type": "code",
   "execution_count": 341,
   "id": "89c7e9bb",
   "metadata": {},
   "outputs": [],
   "source": [
    "class Quotient():\n",
    "    def __init__(self,numerator,denominator):\n",
    "        self.numerator = numerator\n",
    "        self.denominator = denominator\n",
    "    def evaluate(self, **bindings):\n",
    "        return self.numerator.evaluate(**bindings) / self.denominator.evaluate(**bindings)\n",
    "    def expand(self):\n",
    "        return self\n",
    "    def display(self):\n",
    "        return \"Quotient({},{})\".format(self.numerator.display(),self.denominator.display())"
   ]
  },
  {
   "cell_type": "code",
   "execution_count": 342,
   "id": "2304dd39",
   "metadata": {},
   "outputs": [],
   "source": [
    "# a+b / 2\n",
    "quotient_expression = Quotient(Sum(Variable(\"a\"),Variable(\"b\")),Number(2))"
   ]
  },
  {
   "cell_type": "code",
   "execution_count": 343,
   "id": "9db49f86",
   "metadata": {},
   "outputs": [],
   "source": [
    "class Difference():\n",
    "    def __init__(self,exp1,exp2):\n",
    "        self.exp1 = exp1\n",
    "        self.exp2 = exp2\n",
    "    def evaluate(self, **bindings):\n",
    "        return self.exp1.evaluate(**bindings) - self.exp2.evaluate(**bindings)\n",
    "    def expand(self):\n",
    "        return self\n",
    "    def display(self):\n",
    "        return \"Difference({},{})\".format(self.exp1.display(), self.exp2.display())"
   ]
  },
  {
   "cell_type": "code",
   "execution_count": 344,
   "id": "620302b2",
   "metadata": {},
   "outputs": [],
   "source": [
    "# b**2 - 4*a*c\n",
    "difference_expression = Difference(\n",
    "                            Power(\n",
    "                                Variable(\"b\"),\n",
    "                                Number(2)\n",
    "                            ),\n",
    "                            Product(\n",
    "                                Product(\n",
    "                                    Number(4),\n",
    "                                    Variable(\"a\")\n",
    "                                ),\n",
    "                                Variable(\"c\")\n",
    "                            )\n",
    "                        )"
   ]
  },
  {
   "cell_type": "code",
   "execution_count": 345,
   "id": "f141ebd6",
   "metadata": {},
   "outputs": [],
   "source": [
    "class Negative():\n",
    "    def __init__(self,exp):\n",
    "        self.exp = exp\n",
    "    def evaluate(self, **bindings):\n",
    "        return - self.exp.evaluate(**bindings)\n",
    "    def expand(self):\n",
    "        return self\n",
    "    def display(self):\n",
    "        return \"Negative({})\".format(self.exp.display())"
   ]
  },
  {
   "cell_type": "code",
   "execution_count": 346,
   "id": "fedc2712",
   "metadata": {},
   "outputs": [],
   "source": [
    "# -(x**2 + y)\n",
    "negative_expression = Negative(Sum(Power(Variable(\"x\"),Number(2)),Variable(\"y\")))"
   ]
  },
  {
   "cell_type": "code",
   "execution_count": 347,
   "id": "90c7f05c",
   "metadata": {},
   "outputs": [],
   "source": [
    "# (-b +- sprt(b**2 - 4*a*c) / 2**a)\n",
    "sqrt_expression = Quotient(\n",
    "                    Sum(\n",
    "                        Negative(Variable(\"b\")),\n",
    "                        Apply(\n",
    "                            Function(\"sqrt\"),\n",
    "                            Difference(\n",
    "                                Power(\n",
    "                                    Variable(\"b\"),\n",
    "                                    Number(2)\n",
    "                                ),\n",
    "                                Product(\n",
    "                                    Number(4),\n",
    "                                    Product(\n",
    "                                        Variable(\"a\"),\n",
    "                                        Variable(\"c\")\n",
    "                                    )\n",
    "                                )\n",
    "                            )\n",
    "                        )\n",
    "                    ),\n",
    "                    Product(\n",
    "                        Number(2),\n",
    "                        Variable(\"a\")\n",
    "                    )\n",
    "                )"
   ]
  },
  {
   "cell_type": "code",
   "execution_count": 348,
   "id": "719e4cf0",
   "metadata": {},
   "outputs": [],
   "source": [
    "def distinct_variables(exp):\n",
    "    if isinstance(exp, Variable):\n",
    "        return set(exp.symbol)\n",
    "    elif isinstance(exp, Number):\n",
    "        return set()\n",
    "    elif isinstance(exp, Sum):\n",
    "        return set().union(*[distinct_variables(exp) for exp in exp.exps])\n",
    "    elif isinstance(exp, Product):\n",
    "        return distinct_variables(exp.exp1).union(distinct_variables(exp.exp2))\n",
    "    elif isinstance(exp, Power):\n",
    "        return distinct_variables(exp.base).union(distinct_variables(exp.exponent))\n",
    "    elif isinstance(exp, Apply):\n",
    "        return distinct_variables(exp.argument)\n",
    "    else:\n",
    "        raise TypeError(\"Not a valid expression.\")"
   ]
  },
  {
   "cell_type": "code",
   "execution_count": 349,
   "id": "3c8bce51",
   "metadata": {},
   "outputs": [
    {
     "data": {
      "text/plain": [
       "{'x'}"
      ]
     },
     "execution_count": 349,
     "metadata": {},
     "output_type": "execute_result"
    }
   ],
   "source": [
    "distinct_variables(f_expression)"
   ]
  },
  {
   "cell_type": "code",
   "execution_count": 350,
   "id": "f9cfb458",
   "metadata": {},
   "outputs": [],
   "source": [
    "_function_bindings = {\n",
    "    \"sin\": sin,\n",
    "    \"cos\": cos,\n",
    "    \"ln\": log\n",
    "}"
   ]
  },
  {
   "cell_type": "code",
   "execution_count": 351,
   "id": "15994663",
   "metadata": {},
   "outputs": [
    {
     "data": {
      "text/plain": [
       "-76.71394197305108"
      ]
     },
     "execution_count": 351,
     "metadata": {},
     "output_type": "execute_result"
    }
   ],
   "source": [
    "f_expression.evaluate(x=5)"
   ]
  },
  {
   "cell_type": "code",
   "execution_count": 352,
   "id": "487eb04b",
   "metadata": {},
   "outputs": [
    {
     "data": {
      "text/plain": [
       "-76.71394197305108"
      ]
     },
     "execution_count": 352,
     "metadata": {},
     "output_type": "execute_result"
    }
   ],
   "source": [
    "f(5)"
   ]
  },
  {
   "cell_type": "code",
   "execution_count": 353,
   "id": "bb1e43b6",
   "metadata": {},
   "outputs": [],
   "source": [
    "Y = Variable('y')\n",
    "Z = Variable('z')\n",
    "A = Variable('a')\n",
    "B = Variable('b')"
   ]
  },
  {
   "cell_type": "code",
   "execution_count": 354,
   "id": "31b50377",
   "metadata": {},
   "outputs": [
    {
     "data": {
      "text/plain": [
       "Product(Sum(Variable(\"a\"),Variable(\"b\")),Sum(Variable(\"y\"),Variable(\"z\")))"
      ]
     },
     "execution_count": 354,
     "metadata": {},
     "output_type": "execute_result"
    }
   ],
   "source": [
    "Product(Sum(A,B),Sum(Y,Z))"
   ]
  },
  {
   "cell_type": "code",
   "execution_count": 355,
   "id": "3acc04dd",
   "metadata": {},
   "outputs": [
    {
     "data": {
      "text/plain": [
       "Sum(Product(Product(Number(3),Power(Variable(\"x\"),Number(2))),Apply(Function(\"sin\"),Variable(\"x\"))),Product(Variable(\"x\"),Apply(Function(\"sin\"),Variable(\"x\"))))"
      ]
     },
     "execution_count": 355,
     "metadata": {},
     "output_type": "execute_result"
    }
   ],
   "source": [
    "f_expression.expand()"
   ]
  },
  {
   "cell_type": "code",
   "execution_count": null,
   "id": "7cc1617e",
   "metadata": {},
   "outputs": [],
   "source": [
    " "
   ]
  }
 ],
 "metadata": {
  "kernelspec": {
   "display_name": "Python 3",
   "language": "python",
   "name": "python3"
  },
  "language_info": {
   "codemirror_mode": {
    "name": "ipython",
    "version": 3
   },
   "file_extension": ".py",
   "mimetype": "text/x-python",
   "name": "python",
   "nbconvert_exporter": "python",
   "pygments_lexer": "ipython3",
   "version": "3.9.4"
  }
 },
 "nbformat": 4,
 "nbformat_minor": 5
}
