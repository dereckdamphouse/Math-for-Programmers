{
 "cells": [
  {
   "cell_type": "code",
   "execution_count": 57,
   "id": "70504686",
   "metadata": {},
   "outputs": [],
   "source": [
    "def sum_error(f,data):\n",
    "    errors = [abs(f(x)-y) for (x,y) in data]\n",
    "    return sum(errors)"
   ]
  },
  {
   "cell_type": "code",
   "execution_count": 58,
   "id": "65d24b06",
   "metadata": {},
   "outputs": [],
   "source": [
    "def f(x):\n",
    "    return 2*x"
   ]
  },
  {
   "cell_type": "code",
   "execution_count": 59,
   "id": "84cdd008",
   "metadata": {},
   "outputs": [],
   "source": [
    "def g(x):\n",
    "    return 1-x"
   ]
  },
  {
   "cell_type": "code",
   "execution_count": 60,
   "id": "abec1015",
   "metadata": {},
   "outputs": [],
   "source": [
    "test_data1 = [\n",
    "     (-1.0, -2.0137862606487387),\n",
    "     (-0.9, -1.7730222478628337),\n",
    "     (-0.8, -1.5510125944820812),\n",
    "     (-0.7, -1.6071832453434687),\n",
    "     (-0.6, -0.7530149734137868),\n",
    "     (-0.5, -1.4185018340443283),\n",
    "     (-0.4, -0.6055579756271128),\n",
    "     (-0.3, -1.0067254915961406),\n",
    "     (-0.2, -0.4382360549665138),\n",
    "     (-0.1, -0.17621952751051906),\n",
    "     (0.0, -0.12218090884626329),\n",
    "     (0.1, 0.07428573423209717),\n",
    "     (0.2, 0.4268795998864943),\n",
    "     (0.3, 0.7254661223608084),\n",
    "     (0.4, 0.04798697977420063),\n",
    "     (0.5, 1.1578103735448106),\n",
    "     (0.6, 1.5684111061340824),\n",
    "     (0.7, 1.157745051031345),\n",
    "     (0.8, 2.1744401978240675),\n",
    "     (0.9, 1.6380001974121732),\n",
    "     (1.0, 2.538951262545233)\n",
    "]"
   ]
  },
  {
   "cell_type": "code",
   "execution_count": 61,
   "id": "1a71b0c8",
   "metadata": {},
   "outputs": [
    {
     "data": {
      "text/plain": [
       "5.021727176394801"
      ]
     },
     "execution_count": 61,
     "metadata": {},
     "output_type": "execute_result"
    }
   ],
   "source": [
    "sum_error(f,test_data1)"
   ]
  },
  {
   "cell_type": "code",
   "execution_count": 62,
   "id": "44987c82",
   "metadata": {},
   "outputs": [
    {
     "data": {
      "text/plain": [
       "38.47711311130152"
      ]
     },
     "execution_count": 62,
     "metadata": {},
     "output_type": "execute_result"
    }
   ],
   "source": [
    "sum_error(g,test_data1)"
   ]
  },
  {
   "cell_type": "code",
   "execution_count": 63,
   "id": "c6ed7731",
   "metadata": {},
   "outputs": [],
   "source": [
    "def sum_squared_error(f,data):\n",
    "    squared_errors = [(f(x)-y)**2 for (x,y) in data]\n",
    "    return sum(squared_errors)"
   ]
  },
  {
   "cell_type": "code",
   "execution_count": 64,
   "id": "89cde56d",
   "metadata": {},
   "outputs": [],
   "source": [
    "test_data2 = [\n",
    "    (0,0),\n",
    "    (1,2),\n",
    "    (2,4),\n",
    "    (3,6),\n",
    "    (4,8)\n",
    "]"
   ]
  },
  {
   "cell_type": "code",
   "execution_count": 65,
   "id": "df68750b",
   "metadata": {},
   "outputs": [
    {
     "data": {
      "text/plain": [
       "0"
      ]
     },
     "execution_count": 65,
     "metadata": {},
     "output_type": "execute_result"
    }
   ],
   "source": [
    "sum_error(f,test_data2)"
   ]
  },
  {
   "cell_type": "code",
   "execution_count": 66,
   "id": "f41516c5",
   "metadata": {},
   "outputs": [
    {
     "data": {
      "text/plain": [
       "0"
      ]
     },
     "execution_count": 66,
     "metadata": {},
     "output_type": "execute_result"
    }
   ],
   "source": [
    "sum_squared_error(f,test_data2)"
   ]
  },
  {
   "cell_type": "code",
   "execution_count": 67,
   "id": "a5b63f01",
   "metadata": {},
   "outputs": [
    {
     "data": {
      "text/plain": [
       "16.607900877665685"
      ]
     },
     "execution_count": 67,
     "metadata": {},
     "output_type": "execute_result"
    }
   ],
   "source": [
    "sum_squared_error(lambda x: x + 0.5, test_data1)"
   ]
  },
  {
   "cell_type": "code",
   "execution_count": 68,
   "id": "d62bb5f9",
   "metadata": {},
   "outputs": [
    {
     "data": {
      "text/plain": [
       "23.1942461283472"
      ]
     },
     "execution_count": 68,
     "metadata": {},
     "output_type": "execute_result"
    }
   ],
   "source": [
    "sum_squared_error(lambda x: 2*x - 1, test_data1)"
   ]
  },
  {
   "cell_type": "code",
   "execution_count": 75,
   "id": "df5ebf2e",
   "metadata": {},
   "outputs": [],
   "source": [
    "from car_data import priuses\n",
    "prius_mileage_price = [(p.mileage, p.price) for p in priuses]"
   ]
  },
  {
   "cell_type": "code",
   "execution_count": 93,
   "id": "7993eb1b",
   "metadata": {},
   "outputs": [],
   "source": [
    "def test_data_coefficient_cost(a,b):\n",
    "    def f(x):\n",
    "        return a * x + b\n",
    "    return sum_squared_error(f,test_data)"
   ]
  },
  {
   "cell_type": "code",
   "execution_count": 94,
   "id": "c1617b70",
   "metadata": {},
   "outputs": [],
   "source": [
    "def coefficient_cost(a,b):\n",
    "    def p(x):\n",
    "        return a * x + b\n",
    "    return sum_squared_error(p,prius_mileage_price)"
   ]
  },
  {
   "cell_type": "code",
   "execution_count": 95,
   "id": "7db99c21",
   "metadata": {},
   "outputs": [],
   "source": [
    "from vectors import length \n",
    "def secant_slope(f,xmin,xmax):\n",
    "    return (f(xmax) - f(xmin)) / (xmax - xmin)\n",
    "\n",
    "def approx_derivative(f,x,dx=1e-6):\n",
    "    return secant_slope(f,x-dx,x+dx)\n",
    "\n",
    "def approx_gradient(f,x0,y0,dx=1e-6):\n",
    "    partial_x = approx_derivative(lambda x:f(x,y0),x0,dx=dx)\n",
    "    partial_y = approx_derivative(lambda y:f(x0,y),y0,dx=dx)\n",
    "    return (partial_x,partial_y)\n",
    "    \n",
    "def gradient_descent(f,xstart,ystart,tolerance=1e-6):\n",
    "    x = xstart\n",
    "    y = ystart\n",
    "    grad = approx_gradient(f,x,y)\n",
    "    while length(grad) > tolerance:\n",
    "        x -= 0.01 * grad[0]\n",
    "        y -= 0.01 * grad[1]\n",
    "        grad = approx_gradient(f,x,y)\n",
    "    return x,y"
   ]
  },
  {
   "cell_type": "code",
   "execution_count": 96,
   "id": "b3755beb",
   "metadata": {},
   "outputs": [],
   "source": [
    "def scaled_cost_function(c,d):\n",
    "    return coefficient_cost(0.5*c,50000*d)/1e13"
   ]
  },
  {
   "cell_type": "code",
   "execution_count": 97,
   "id": "63730a26",
   "metadata": {},
   "outputs": [],
   "source": [
    "c,d = gradient_descent(scaled_cost_function,0,0)"
   ]
  },
  {
   "cell_type": "code",
   "execution_count": 98,
   "id": "7c38a396",
   "metadata": {},
   "outputs": [
    {
     "data": {
      "text/plain": [
       "(-0.12111901781156968, 0.3149542288801314)"
      ]
     },
     "execution_count": 98,
     "metadata": {},
     "output_type": "execute_result"
    }
   ],
   "source": [
    "(c,d)"
   ]
  },
  {
   "cell_type": "code",
   "execution_count": 99,
   "id": "00701260",
   "metadata": {},
   "outputs": [
    {
     "data": {
      "text/plain": [
       "(-0.06055950890578484, 15747.71144400657)"
      ]
     },
     "execution_count": 99,
     "metadata": {},
     "output_type": "execute_result"
    }
   ],
   "source": [
    "(c*0.5,d*50000)"
   ]
  },
  {
   "cell_type": "code",
   "execution_count": 105,
   "id": "ffcd0067",
   "metadata": {},
   "outputs": [
    {
     "data": {
      "text/plain": [
       "(1.9999998908902523, 3.1104800163673105e-07)"
      ]
     },
     "execution_count": 105,
     "metadata": {},
     "output_type": "execute_result"
    }
   ],
   "source": [
    "gradient_descent(test_data_coefficient_cost,0,0)"
   ]
  },
  {
   "cell_type": "code",
   "execution_count": 106,
   "id": "0a990375",
   "metadata": {},
   "outputs": [],
   "source": [
    "from math import exp\n",
    "def exp_coefficient_cost(q,r):\n",
    "    def f(x):\n",
    "        return q * exp(r*x)\n",
    "    return sum_squared_error(f,prius_mileage_price)"
   ]
  },
  {
   "cell_type": "code",
   "execution_count": 110,
   "id": "0492a9e5",
   "metadata": {},
   "outputs": [],
   "source": [
    "def scaled_exp_coefficient_cost(s,t):\n",
    "    return exp_coefficient_cost(s*30000,t*1e-4)/1e11"
   ]
  },
  {
   "cell_type": "code",
   "execution_count": 111,
   "id": "706b1b51",
   "metadata": {},
   "outputs": [],
   "source": [
    "q,r = gradient_descent(scaled_exp_coefficient_cost,0,0)"
   ]
  },
  {
   "cell_type": "code",
   "execution_count": 112,
   "id": "f06c5854",
   "metadata": {},
   "outputs": [
    {
     "data": {
      "text/plain": [
       "(18706.21467860305, -7.686877731138912e-06)"
      ]
     },
     "execution_count": 112,
     "metadata": {},
     "output_type": "execute_result"
    }
   ],
   "source": [
    "(q*30000,r*1e-4)"
   ]
  },
  {
   "cell_type": "code",
   "execution_count": 131,
   "id": "da7a8c40",
   "metadata": {},
   "outputs": [],
   "source": [
    "def exp_f(miles):\n",
    "    return q*30000*(exp((r*1e-4) * miles))"
   ]
  },
  {
   "cell_type": "code",
   "execution_count": 132,
   "id": "ac95b040",
   "metadata": {},
   "outputs": [
    {
     "data": {
      "text/plain": [
       "0.9260113593344229"
      ]
     },
     "execution_count": 132,
     "metadata": {},
     "output_type": "execute_result"
    }
   ],
   "source": [
    "exp_f(10000) / exp_f(0)"
   ]
  },
  {
   "cell_type": "code",
   "execution_count": 136,
   "id": "c0618e46",
   "metadata": {},
   "outputs": [
    {
     "data": {
      "text/plain": [
       "0.9260113593344229"
      ]
     },
     "execution_count": 136,
     "metadata": {},
     "output_type": "execute_result"
    }
   ],
   "source": [
    "exp((r*1e-4) * 10000)"
   ]
  },
  {
   "cell_type": "code",
   "execution_count": 146,
   "id": "2c8eea77",
   "metadata": {},
   "outputs": [],
   "source": [
    "def exp_fixed_q(q,r):\n",
    "    def f(x):\n",
    "        return 25000 * exp(r*x)\n",
    "    return sum_squared_error(f,prius_mileage_price)"
   ]
  },
  {
   "cell_type": "code",
   "execution_count": 147,
   "id": "4dc23a74",
   "metadata": {},
   "outputs": [],
   "source": [
    "def scaled_exp_fixed_q(q,t):\n",
    "    return exp_fixed_q(q,t*1e-4)/1e11"
   ]
  },
  {
   "cell_type": "code",
   "execution_count": 148,
   "id": "91a68749",
   "metadata": {},
   "outputs": [],
   "source": [
    "q,r = gradient_descent(scaled_exp_fixed_q,0,0)"
   ]
  },
  {
   "cell_type": "code",
   "execution_count": 150,
   "id": "63863732",
   "metadata": {},
   "outputs": [
    {
     "data": {
      "text/plain": [
       "(0.0, -1.1160221110799576e-05)"
      ]
     },
     "execution_count": 150,
     "metadata": {},
     "output_type": "execute_result"
    }
   ],
   "source": [
    "(q,r*1e-4)"
   ]
  },
  {
   "cell_type": "code",
   "execution_count": null,
   "id": "a5f0decd",
   "metadata": {},
   "outputs": [],
   "source": []
  }
 ],
 "metadata": {
  "kernelspec": {
   "display_name": "Python 3",
   "language": "python",
   "name": "python3"
  },
  "language_info": {
   "codemirror_mode": {
    "name": "ipython",
    "version": 3
   },
   "file_extension": ".py",
   "mimetype": "text/x-python",
   "name": "python",
   "nbconvert_exporter": "python",
   "pygments_lexer": "ipython3",
   "version": "3.9.4"
  }
 },
 "nbformat": 4,
 "nbformat_minor": 5
}
