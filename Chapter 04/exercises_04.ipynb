{
 "cells": [
  {
   "cell_type": "code",
   "execution_count": 47,
   "id": "7709ab7e",
   "metadata": {},
   "outputs": [
    {
     "name": "stdout",
     "output_type": "stream",
     "text": [
      "pygame 2.0.1 (SDL 2.0.14, Python 3.9.4)\r\n",
      "Hello from the pygame community. https://www.pygame.org/contribute.html\r\n"
     ]
    }
   ],
   "source": [
    "!python3 draw_teapot.py"
   ]
  },
  {
   "cell_type": "code",
   "execution_count": 48,
   "id": "02574c40",
   "metadata": {},
   "outputs": [],
   "source": [
    "from vectors import *"
   ]
  },
  {
   "cell_type": "code",
   "execution_count": 49,
   "id": "e350a27f",
   "metadata": {},
   "outputs": [],
   "source": [
    "def translate_by(trans_vector):\n",
    "    def new_function(vector):\n",
    "        return add(trans_vector, vector)\n",
    "    return new_function  "
   ]
  },
  {
   "cell_type": "code",
   "execution_count": 50,
   "id": "54832618",
   "metadata": {},
   "outputs": [
    {
     "data": {
      "text/plain": [
       "(0, 0, 0)"
      ]
     },
     "execution_count": 50,
     "metadata": {},
     "output_type": "execute_result"
    }
   ],
   "source": [
    "translate_by((-1,0,0))((1,0,0))"
   ]
  },
  {
   "cell_type": "code",
   "execution_count": 51,
   "id": "1d22f8b8",
   "metadata": {},
   "outputs": [],
   "source": [
    "def polygon_map(transformation, polygons):\n",
    "    return [\n",
    "        [transformation(vertex) for vertex in triangle]\n",
    "        for triangle in polygons\n",
    "    ]"
   ]
  },
  {
   "cell_type": "code",
   "execution_count": 52,
   "id": "17b6119c",
   "metadata": {},
   "outputs": [],
   "source": [
    "from draw_model import draw_model"
   ]
  },
  {
   "cell_type": "code",
   "execution_count": 53,
   "id": "77a7b6de",
   "metadata": {},
   "outputs": [],
   "source": [
    "from teapot import load_triangles"
   ]
  },
  {
   "cell_type": "code",
   "execution_count": 54,
   "id": "e6abb091",
   "metadata": {},
   "outputs": [
    {
     "ename": "NameError",
     "evalue": "name 'quit' is not defined",
     "output_type": "error",
     "traceback": [
      "\u001b[0;31m---------------------------------------------------------------------------\u001b[0m",
      "\u001b[0;31mNameError\u001b[0m                                 Traceback (most recent call last)",
      "\u001b[0;32m<ipython-input-54-aaa4d138e629>\u001b[0m in \u001b[0;36m<module>\u001b[0;34m\u001b[0m\n\u001b[0;32m----> 1\u001b[0;31m \u001b[0mdraw_model\u001b[0m\u001b[0;34m(\u001b[0m\u001b[0mpolygon_map\u001b[0m\u001b[0;34m(\u001b[0m\u001b[0mtranslate_by\u001b[0m\u001b[0;34m(\u001b[0m\u001b[0;34m(\u001b[0m\u001b[0;36m0\u001b[0m\u001b[0;34m,\u001b[0m\u001b[0;36m0\u001b[0m\u001b[0;34m,\u001b[0m\u001b[0;34m-\u001b[0m\u001b[0;36m20\u001b[0m\u001b[0;34m)\u001b[0m\u001b[0;34m)\u001b[0m\u001b[0;34m,\u001b[0m \u001b[0mload_triangles\u001b[0m\u001b[0;34m(\u001b[0m\u001b[0;34m)\u001b[0m\u001b[0;34m)\u001b[0m\u001b[0;34m)\u001b[0m\u001b[0;34m\u001b[0m\u001b[0;34m\u001b[0m\u001b[0m\n\u001b[0m",
      "\u001b[0;32m~/py/Math-for-Programmers/Chapter 04/draw_model.py\u001b[0m in \u001b[0;36mdraw_model\u001b[0;34m(faces, color_map, light, glRotatefArgs, get_matrix)\u001b[0m\n\u001b[1;32m     51\u001b[0m             \u001b[0;32mif\u001b[0m \u001b[0mevent\u001b[0m\u001b[0;34m.\u001b[0m\u001b[0mtype\u001b[0m \u001b[0;34m==\u001b[0m \u001b[0mpygame\u001b[0m\u001b[0;34m.\u001b[0m\u001b[0mQUIT\u001b[0m\u001b[0;34m:\u001b[0m\u001b[0;34m\u001b[0m\u001b[0;34m\u001b[0m\u001b[0m\n\u001b[1;32m     52\u001b[0m                 \u001b[0mpygame\u001b[0m\u001b[0;34m.\u001b[0m\u001b[0mquit\u001b[0m\u001b[0;34m(\u001b[0m\u001b[0;34m)\u001b[0m\u001b[0;34m\u001b[0m\u001b[0;34m\u001b[0m\u001b[0m\n\u001b[0;32m---> 53\u001b[0;31m                 \u001b[0mquit\u001b[0m\u001b[0;34m(\u001b[0m\u001b[0;34m)\u001b[0m\u001b[0;34m\u001b[0m\u001b[0;34m\u001b[0m\u001b[0m\n\u001b[0m\u001b[1;32m     54\u001b[0m \u001b[0;34m\u001b[0m\u001b[0m\n\u001b[1;32m     55\u001b[0m         \u001b[0mglClear\u001b[0m\u001b[0;34m(\u001b[0m\u001b[0mGL_COLOR_BUFFER_BIT\u001b[0m\u001b[0;34m|\u001b[0m\u001b[0mGL_DEPTH_BUFFER_BIT\u001b[0m\u001b[0;34m)\u001b[0m\u001b[0;34m\u001b[0m\u001b[0;34m\u001b[0m\u001b[0m\n",
      "\u001b[0;31mNameError\u001b[0m: name 'quit' is not defined"
     ]
    }
   ],
   "source": [
    "draw_model(polygon_map(translate_by((0,0,-20)), load_triangles()))"
   ]
  },
  {
   "cell_type": "code",
   "execution_count": null,
   "id": "fa0ce47a",
   "metadata": {},
   "outputs": [],
   "source": [
    "def compose(*args):\n",
    "    def new_function(input):\n",
    "        state = input\n",
    "        for f in reversed(args):\n",
    "            state = f(state)\n",
    "        return state\n",
    "    return new_function"
   ]
  },
  {
   "cell_type": "code",
   "execution_count": null,
   "id": "f5e5616b",
   "metadata": {},
   "outputs": [],
   "source": [
    "def prepend(string):\n",
    "    def new_function(input):\n",
    "        return string + input\n",
    "    return new_function"
   ]
  },
  {
   "cell_type": "code",
   "execution_count": null,
   "id": "81c8ec7f",
   "metadata": {},
   "outputs": [],
   "source": [
    "f = compose(prepend(\"P\"), prepend(\"y\"), prepend(\"t\"))"
   ]
  },
  {
   "cell_type": "code",
   "execution_count": null,
   "id": "d1b4b38e",
   "metadata": {},
   "outputs": [],
   "source": [
    "f(\"hon\")"
   ]
  },
  {
   "cell_type": "code",
   "execution_count": null,
   "id": "70f53699",
   "metadata": {},
   "outputs": [],
   "source": [
    "def curry2(f):\n",
    "    def g(x):\n",
    "        def new_function(y):\n",
    "            return f(x,y)\n",
    "        return new_function\n",
    "    return g"
   ]
  },
  {
   "cell_type": "code",
   "execution_count": null,
   "id": "d4756a0d",
   "metadata": {},
   "outputs": [],
   "source": [
    "scale_by = curry2(scale)"
   ]
  },
  {
   "cell_type": "code",
   "execution_count": null,
   "id": "6fb11b1e",
   "metadata": {},
   "outputs": [],
   "source": [
    "scale_by(2)((1,2,3))"
   ]
  },
  {
   "cell_type": "code",
   "execution_count": null,
   "id": "f2678dfb",
   "metadata": {},
   "outputs": [],
   "source": [
    "def stretch_x(scalar,v):\n",
    "    return (v[0]*scalar, v[1], v[2])"
   ]
  },
  {
   "cell_type": "code",
   "execution_count": null,
   "id": "1bd7bc13",
   "metadata": {},
   "outputs": [],
   "source": [
    "def stretch_x_by(scalar):\n",
    "    def new_function(vector):\n",
    "        return stretch_x(scalar,vector)\n",
    "    return new_function"
   ]
  },
  {
   "cell_type": "code",
   "execution_count": null,
   "id": "3defeba5",
   "metadata": {},
   "outputs": [],
   "source": [
    "stretch_x_by(2)((1,2,3))"
   ]
  },
  {
   "cell_type": "code",
   "execution_count": 55,
   "id": "3121be5c",
   "metadata": {},
   "outputs": [],
   "source": [
    "# Exersice 4.14 is found in exersices_02 notebook"
   ]
  },
  {
   "cell_type": "code",
   "execution_count": 61,
   "id": "452f0857",
   "metadata": {},
   "outputs": [],
   "source": [
    "from hypothesis import given, strategies as st"
   ]
  },
  {
   "cell_type": "code",
   "execution_count": 65,
   "id": "5e49b5ef",
   "metadata": {},
   "outputs": [],
   "source": [
    "def return_string(s):\n",
    "    return s"
   ]
  },
  {
   "cell_type": "code",
   "execution_count": 71,
   "id": "eec30f7d",
   "metadata": {},
   "outputs": [],
   "source": [
    "given(st.text())\n",
    "def test_is_string(s):\n",
    "    assert return_string(s) == s"
   ]
  },
  {
   "cell_type": "code",
   "execution_count": 72,
   "id": "b7f0478a",
   "metadata": {},
   "outputs": [],
   "source": [
    "test_is_transformation_linear(\"hi\")"
   ]
  },
  {
   "cell_type": "code",
   "execution_count": 110,
   "id": "d07c9e64",
   "metadata": {},
   "outputs": [],
   "source": [
    "def test_is_transformation_linear(t,u,v):\n",
    "    assert add(t(u),t(v)) == t((add(u,v)))"
   ]
  },
  {
   "cell_type": "code",
   "execution_count": 125,
   "id": "5dc770bd",
   "metadata": {},
   "outputs": [],
   "source": [
    "from random import randrange\n",
    "from math import pi"
   ]
  },
  {
   "cell_type": "code",
   "execution_count": 147,
   "id": "f82498ca",
   "metadata": {},
   "outputs": [],
   "source": [
    "for _ in range(0, 100):\n",
    "    test_is_transformation_linear(\n",
    "        scale_by(randrange(100)),\n",
    "        (randrange(100),randrange(100)),\n",
    "        (randrange(100),randrange(100))\n",
    "    )"
   ]
  },
  {
   "cell_type": "code",
   "execution_count": 185,
   "id": "98a72c32",
   "metadata": {},
   "outputs": [],
   "source": [
    "def test_is_scalar_linear(t,s,v):\n",
    "    a = scale_by(s)(t(v))\n",
    "    b = t(scale_by(s)(v))\n",
    "    x, y, z = a\n",
    "    a = (round(x, 0), round(y, 0), round(z, 0))\n",
    "    x, y, z = b\n",
    "    b = (round(x, 0), round(y, 0), round(z, 0))\n",
    "    assert a == b"
   ]
  },
  {
   "cell_type": "code",
   "execution_count": 186,
   "id": "77a470b5",
   "metadata": {},
   "outputs": [],
   "source": [
    "def rotate_x(angle, vector):\n",
    "    x, y, z = vector\n",
    "    new_y, new_z = rotate2d(angle, (y,z))\n",
    "    return x, new_y, new_z"
   ]
  },
  {
   "cell_type": "code",
   "execution_count": 187,
   "id": "015f40ad",
   "metadata": {},
   "outputs": [],
   "source": [
    "def rotate_x_by(angle):\n",
    "    def new_function(vector):\n",
    "        return rotate_x(angle, vector)\n",
    "    return new_function"
   ]
  },
  {
   "cell_type": "code",
   "execution_count": 189,
   "id": "b1bc8271",
   "metadata": {},
   "outputs": [],
   "source": [
    "for _ in range(0, 100):\n",
    "    test_is_scalar_linear(\n",
    "        rotate_x_by(pi/2),\n",
    "        randrange(100),\n",
    "        (randrange(100),randrange(100),randrange(100))\n",
    "    )"
   ]
  },
  {
   "cell_type": "code",
   "execution_count": 199,
   "id": "cb5c94a4",
   "metadata": {},
   "outputs": [],
   "source": [
    "def linear_combination(scalars, *vectors):\n",
    "    scaled = [scale(s,v) for s,v in zip(scalars, vectors)]\n",
    "    return add(*scaled)"
   ]
  },
  {
   "cell_type": "code",
   "execution_count": 200,
   "id": "944ead9f",
   "metadata": {},
   "outputs": [
    {
     "data": {
      "text/plain": [
       "(1, 2, 3)"
      ]
     },
     "execution_count": 200,
     "metadata": {},
     "output_type": "execute_result"
    }
   ],
   "source": [
    "linear_combination([1,2,3], (1,0,0),(0,1,0),(0,0,1))"
   ]
  },
  {
   "cell_type": "code",
   "execution_count": 202,
   "id": "e0e254d7",
   "metadata": {},
   "outputs": [],
   "source": [
    "def transform_standard_basis(transform):\n",
    "    return transform((1,0,0)), transform((0,1,0)), transform((0,0,1))"
   ]
  },
  {
   "cell_type": "code",
   "execution_count": null,
   "id": "239141d5",
   "metadata": {},
   "outputs": [],
   "source": []
  }
 ],
 "metadata": {
  "kernelspec": {
   "display_name": "Python 3",
   "language": "python",
   "name": "python3"
  },
  "language_info": {
   "codemirror_mode": {
    "name": "ipython",
    "version": 3
   },
   "file_extension": ".py",
   "mimetype": "text/x-python",
   "name": "python",
   "nbconvert_exporter": "python",
   "pygments_lexer": "ipython3",
   "version": "3.9.4"
  }
 },
 "nbformat": 4,
 "nbformat_minor": 5
}
