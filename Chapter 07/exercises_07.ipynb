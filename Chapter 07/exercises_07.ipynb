{
 "cells": [
  {
   "cell_type": "code",
   "execution_count": 229,
   "id": "28c7d3c6",
   "metadata": {},
   "outputs": [],
   "source": [
    "import pygame\n",
    "import vectors\n",
    "import numpy as np\n",
    "from random import randint, uniform\n",
    "from math import pi, cos, sin, sqrt"
   ]
  },
  {
   "cell_type": "code",
   "execution_count": 230,
   "id": "9e4ace43",
   "metadata": {},
   "outputs": [],
   "source": [
    "class PolygonModel():\n",
    "    def __init__(self,points):\n",
    "        self.points = points\n",
    "        self.rotation_angle = 0\n",
    "        self.x = 0\n",
    "        self.y = 0\n",
    "    def transformed(self):\n",
    "        rotated = [vectors.rotate2d(self.rotation_angle, v) for v in self.points]\n",
    "        return [vectors.add((self.x,self.y), v) for v in rotated]  \n",
    "    def segments(self):\n",
    "        point_count = len(self.points)\n",
    "        points = self.transformed()\n",
    "        return [(points[i], points[(i+1)%point_count])\n",
    "                for i in range(0,point_count)]      \n",
    "    def does_intersect(self, other_segment):\n",
    "        for segment in self.segments():\n",
    "            if do_segments_intersect(other_segment,segment):\n",
    "                return True\n",
    "        return False\n",
    "    def does_collide(self, other_polygon):\n",
    "        for other_segment in other_polygon.segments():\n",
    "            if self.does_intersect(other_segment):\n",
    "                return True\n",
    "        return False\n",
    "        \n",
    "class Ship(PolygonModel):\n",
    "    def __init__(self):\n",
    "        super().__init__([(0.5,0), (-0.25,0.25), (-0.25,-0.25)])\n",
    "    def laser_segment(self):\n",
    "        dist = 20. * sqrt(2)\n",
    "        x,y = self.transformed()[0]\n",
    "        return((x,y), \n",
    "              (x + dist * cos(self.rotation_angle),\n",
    "               y + dist * sin(self.rotation_angle)))"
   ]
  },
  {
   "cell_type": "code",
   "execution_count": 231,
   "id": "532d70a9",
   "metadata": {},
   "outputs": [],
   "source": [
    "class Asteroid(PolygonModel):\n",
    "    def __init__(self):\n",
    "        sides = randint(5,9)\n",
    "        vs = [vectors.to_cartesian((uniform(0.5,1), 2*pi*i/sides)) for i in range(0, sides)]\n",
    "        super().__init__(vs)"
   ]
  },
  {
   "cell_type": "code",
   "execution_count": 232,
   "id": "0fa20894",
   "metadata": {},
   "outputs": [],
   "source": [
    "ship = Ship()"
   ]
  },
  {
   "cell_type": "code",
   "execution_count": 233,
   "id": "b9d9caa4",
   "metadata": {},
   "outputs": [],
   "source": [
    "asteroid_count = 10\n",
    "asteroids = [Asteroid() for _ in range(0, asteroid_count)]"
   ]
  },
  {
   "cell_type": "code",
   "execution_count": 234,
   "id": "c9387492",
   "metadata": {},
   "outputs": [],
   "source": [
    "for ast in asteroids:\n",
    "    ast.x = randint(-9,9)\n",
    "    ast.y = randint(-9,9)"
   ]
  },
  {
   "cell_type": "code",
   "execution_count": 235,
   "id": "a5694f8a",
   "metadata": {},
   "outputs": [],
   "source": [
    "GREEN = (0, 255, 0)"
   ]
  },
  {
   "cell_type": "code",
   "execution_count": 236,
   "id": "0b288958",
   "metadata": {},
   "outputs": [],
   "source": [
    "def draw_poly(screen, polygon_model, color=GREEN):\n",
    "    pixel_points = [to_pixels(x,y) for x,y in polygon_model.transformed()]\n",
    "    pygame.draw.aalines(screen, color, True, pixel_points, 10)"
   ]
  },
  {
   "cell_type": "code",
   "execution_count": 237,
   "id": "436d5ae7",
   "metadata": {},
   "outputs": [],
   "source": [
    "# laser = ship.laser_segment()\n",
    "# keys = pygame.key.get_pressed()\n",
    "# if keys[pygame.K_SPACE]:\n",
    "#     draw_segment(*laser)\n",
    "#     for ast in asteroids:\n",
    "#         if ast.does_intersect(laster):\n",
    "#             asteroids.remove(ast)"
   ]
  },
  {
   "cell_type": "code",
   "execution_count": 238,
   "id": "24c68051",
   "metadata": {},
   "outputs": [],
   "source": [
    "width, height = 400, 400\n",
    "def to_pixels(x,y):\n",
    "    return (width/2 + width * x / 20, height/2 - height * y / 20)"
   ]
  },
  {
   "cell_type": "code",
   "execution_count": 239,
   "id": "b689f8b9",
   "metadata": {},
   "outputs": [],
   "source": [
    "def standard_form(v1,v2):\n",
    "    x1, y1 = v1\n",
    "    x2, y2 = v2\n",
    "    a = y2-y1\n",
    "    b = x1-x2\n",
    "    c = x1*y2 - x2*y1\n",
    "    return a,b,c"
   ]
  },
  {
   "cell_type": "code",
   "execution_count": 240,
   "id": "e4d9ae35",
   "metadata": {},
   "outputs": [],
   "source": [
    "def intersection(u1,u2,v1,v2):\n",
    "    a1, b1, c1 = standard_form(u1,u2)\n",
    "    a2, b2, c2 = standard_form(v1,v2)\n",
    "    m = np.array(((a1,b1), (a2,b2)))\n",
    "    c = np.array((c1,c2))\n",
    "    return np.linalg.solve(m,c)"
   ]
  },
  {
   "cell_type": "code",
   "execution_count": 241,
   "id": "230b1f1c",
   "metadata": {},
   "outputs": [],
   "source": [
    "def do_segments_intersect(s1,s2):\n",
    "    u1,u2 = s1\n",
    "    v1,v2 = s2\n",
    "    d1, d2 = vectors.distance(*s1), vectors.distance(*s2)\n",
    "    try:\n",
    "        x,y = intersection(u1,u2,v1,v2)\n",
    "        return (vectors.distance(u1, (x,y)) <= d1 and\n",
    "                vectors.distance(u2, (x,y)) <= d1 and\n",
    "                vectors.distance(v1, (x,y)) <= d2 and\n",
    "                vectors.distance(v2, (x,y)) <= d2)\n",
    "    except np.linalg.linalg.LinAlgErr:\n",
    "        return False"
   ]
  },
  {
   "cell_type": "code",
   "execution_count": 242,
   "id": "9936b9eb",
   "metadata": {},
   "outputs": [
    {
     "data": {
      "text/plain": [
       "False"
      ]
     },
     "execution_count": 242,
     "metadata": {},
     "output_type": "execute_result"
    }
   ],
   "source": [
    "do_segments_intersect(((1,2),(1, 0)), ((2,3),(3, -2)))"
   ]
  },
  {
   "cell_type": "code",
   "execution_count": 243,
   "id": "324753e7",
   "metadata": {},
   "outputs": [
    {
     "data": {
      "text/plain": [
       "True"
      ]
     },
     "execution_count": 243,
     "metadata": {},
     "output_type": "execute_result"
    }
   ],
   "source": [
    "do_segments_intersect(((0,2),(1,-1)),((0,0),(4,0)))"
   ]
  },
  {
   "cell_type": "code",
   "execution_count": 244,
   "id": "6852388b",
   "metadata": {},
   "outputs": [],
   "source": [
    "points = [(2,7), (1,5), (2,3), (4,2), (6,2), (7,4), (6,6), (4,6)]"
   ]
  },
  {
   "cell_type": "code",
   "execution_count": 245,
   "id": "e9c62754",
   "metadata": {},
   "outputs": [],
   "source": [
    "polygon = PolygonModel(points)"
   ]
  },
  {
   "cell_type": "code",
   "execution_count": 246,
   "id": "b9002a6c",
   "metadata": {},
   "outputs": [],
   "source": [
    "lzr = [(0,0),(7,7)]"
   ]
  },
  {
   "cell_type": "code",
   "execution_count": 247,
   "id": "3195d76f",
   "metadata": {},
   "outputs": [
    {
     "data": {
      "text/plain": [
       "True"
      ]
     },
     "execution_count": 247,
     "metadata": {},
     "output_type": "execute_result"
    }
   ],
   "source": [
    "polygon.does_intersect(lzr)"
   ]
  },
  {
   "cell_type": "code",
   "execution_count": 248,
   "id": "7ed11c72",
   "metadata": {},
   "outputs": [],
   "source": [
    "matrix = np.array(((1,1,-1),(0,2,-1),(1,0,1)))\n",
    "vector = np.array((-1,3,2))\n",
    "inverse = np.linalg.inv(matrix)"
   ]
  },
  {
   "cell_type": "code",
   "execution_count": 249,
   "id": "d89a9cbe",
   "metadata": {},
   "outputs": [
    {
     "name": "stdout",
     "output_type": "stream",
     "text": [
      "[[ 0.66666667 -0.33333333  0.33333333]\n",
      " [-0.33333333  0.66666667  0.33333333]\n",
      " [-0.66666667  0.33333333  0.66666667]]\n"
     ]
    }
   ],
   "source": [
    "print(inverse)"
   ]
  },
  {
   "cell_type": "code",
   "execution_count": 250,
   "id": "1c0f7a24",
   "metadata": {},
   "outputs": [
    {
     "data": {
      "text/plain": [
       "array([-1.,  3.,  3.])"
      ]
     },
     "execution_count": 250,
     "metadata": {},
     "output_type": "execute_result"
    }
   ],
   "source": [
    "np.matmul(inverse,vector)"
   ]
  },
  {
   "cell_type": "code",
   "execution_count": null,
   "id": "4b33e84e",
   "metadata": {},
   "outputs": [],
   "source": []
  }
 ],
 "metadata": {
  "kernelspec": {
   "display_name": "Python 3",
   "language": "python",
   "name": "python3"
  },
  "language_info": {
   "codemirror_mode": {
    "name": "ipython",
    "version": 3
   },
   "file_extension": ".py",
   "mimetype": "text/x-python",
   "name": "python",
   "nbconvert_exporter": "python",
   "pygments_lexer": "ipython3",
   "version": "3.9.4"
  }
 },
 "nbformat": 4,
 "nbformat_minor": 5
}
