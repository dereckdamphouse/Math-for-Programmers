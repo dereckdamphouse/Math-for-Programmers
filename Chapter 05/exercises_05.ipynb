{
 "cells": [
  {
   "cell_type": "code",
   "execution_count": 1,
   "id": "29b956bb",
   "metadata": {},
   "outputs": [],
   "source": [
    "from vectors import *"
   ]
  },
  {
   "cell_type": "code",
   "execution_count": 2,
   "id": "2e6d2343",
   "metadata": {},
   "outputs": [],
   "source": [
    "B = (\n",
    "    (0,2,1),\n",
    "    (0,1,0),\n",
    "    (1,0,-1)\n",
    ")\n",
    "v = (3,-2,5)"
   ]
  },
  {
   "cell_type": "code",
   "execution_count": 4,
   "id": "5191d5a6",
   "metadata": {},
   "outputs": [],
   "source": [
    "def multiply_matrix_vector(matrix, vector):\n",
    "    return linear_combination(vector, *zip(*matrix))"
   ]
  },
  {
   "cell_type": "code",
   "execution_count": 5,
   "id": "c7b2cc76",
   "metadata": {},
   "outputs": [
    {
     "data": {
      "text/plain": [
       "(1, -2, -2)"
      ]
     },
     "execution_count": 5,
     "metadata": {},
     "output_type": "execute_result"
    }
   ],
   "source": [
    "multiply_matrix_vector(B,v)"
   ]
  },
  {
   "cell_type": "code",
   "execution_count": 6,
   "id": "1224112d",
   "metadata": {},
   "outputs": [],
   "source": [
    "def matrix_multiply(a,b):\n",
    "    return tuple(\n",
    "        tuple(dot(row,col) for col in zip(*b))\n",
    "        for row in a\n",
    "    )"
   ]
  },
  {
   "cell_type": "code",
   "execution_count": 7,
   "id": "8427c1e4",
   "metadata": {},
   "outputs": [],
   "source": [
    "a = ((1,1,0),(1,0,1),(1,-1,1))"
   ]
  },
  {
   "cell_type": "code",
   "execution_count": 8,
   "id": "75516fcf",
   "metadata": {},
   "outputs": [],
   "source": [
    "b = ((0,2,1),(0,1,0),(1,0,-1))"
   ]
  },
  {
   "cell_type": "code",
   "execution_count": 9,
   "id": "3185f92f",
   "metadata": {},
   "outputs": [
    {
     "data": {
      "text/plain": [
       "((0, 3, 1), (1, 2, 0), (1, 1, 0))"
      ]
     },
     "execution_count": 9,
     "metadata": {},
     "output_type": "execute_result"
    }
   ],
   "source": [
    "matrix_multiply(a,b)"
   ]
  },
  {
   "cell_type": "code",
   "execution_count": 10,
   "id": "9fa44947",
   "metadata": {},
   "outputs": [],
   "source": [
    "def infer_matrix(n, transformation):\n",
    "    def standard_base_vector(i):\n",
    "        return tuple(1 if i==j else 0 for j in range(1,n+1))\n",
    "    standard_basis = [standard_base_vector(i) for i in range(1,n+1)]\n",
    "    cols = [transformation(v) for v in standard_basis]\n",
    "    return tuple(zip(*cols))"
   ]
  },
  {
   "cell_type": "code",
   "execution_count": 12,
   "id": "49f7438f",
   "metadata": {},
   "outputs": [],
   "source": [
    "from transforms import rotate_z_by\n",
    "from math import pi"
   ]
  },
  {
   "cell_type": "code",
   "execution_count": 14,
   "id": "b72b7212",
   "metadata": {},
   "outputs": [
    {
     "data": {
      "text/plain": [
       "((6.123233995736766e-17, -1.0, 0.0),\n",
       " (1.0, 1.2246467991473532e-16, 0.0),\n",
       " (0, 0, 1))"
      ]
     },
     "execution_count": 14,
     "metadata": {},
     "output_type": "execute_result"
    }
   ],
   "source": [
    "infer_matrix(3,rotate_z_by(pi/2))"
   ]
  },
  {
   "cell_type": "code",
   "execution_count": 15,
   "id": "1f2fd04b",
   "metadata": {},
   "outputs": [],
   "source": [
    "a = ((1.3,0.7),(6.5,3.2))"
   ]
  },
  {
   "cell_type": "code",
   "execution_count": 16,
   "id": "b15c98fd",
   "metadata": {},
   "outputs": [],
   "source": [
    "b = (-2.5,0.3)"
   ]
  },
  {
   "cell_type": "code",
   "execution_count": 20,
   "id": "c4e7233a",
   "metadata": {},
   "outputs": [
    {
     "data": {
      "text/plain": [
       "(-3.46, -15.29)"
      ]
     },
     "execution_count": 20,
     "metadata": {},
     "output_type": "execute_result"
    }
   ],
   "source": [
    "(-2.5*1.3+0.3*-0.7,-2.5*6.5+0.3*3.2)"
   ]
  },
  {
   "cell_type": "code",
   "execution_count": 23,
   "id": "462f2606",
   "metadata": {},
   "outputs": [],
   "source": [
    "from random import randrange"
   ]
  },
  {
   "cell_type": "code",
   "execution_count": 42,
   "id": "3839de07",
   "metadata": {},
   "outputs": [],
   "source": [
    "def random_matrix(n):\n",
    "    def create_matrix():\n",
    "        return tuple(tuple(randrange(10) for _ in range(0,n)) for _ in range(0,n))\n",
    "    a = create_matrix()\n",
    "    b = create_matrix()\n",
    "    print(a,b)\n",
    "    return matrix_multiply(a,b)"
   ]
  },
  {
   "cell_type": "code",
   "execution_count": 43,
   "id": "9e897f06",
   "metadata": {},
   "outputs": [
    {
     "name": "stdout",
     "output_type": "stream",
     "text": [
      "((9, 8, 8), (6, 9, 5), (5, 5, 9)) ((5, 5, 7), (2, 4, 7), (0, 9, 6))\n"
     ]
    },
    {
     "data": {
      "text/plain": [
       "((61, 149, 167), (48, 111, 135), (35, 126, 124))"
      ]
     },
     "execution_count": 43,
     "metadata": {},
     "output_type": "execute_result"
    }
   ],
   "source": [
    "random_matrix(3)"
   ]
  },
  {
   "cell_type": "code",
   "execution_count": 44,
   "id": "0fe55e93",
   "metadata": {},
   "outputs": [],
   "source": [
    "def transform(v):\n",
    "    m = ((2,1,1),(1,2,1),(1,1,2))\n",
    "    return multiply_matrix_vector(m,v)"
   ]
  },
  {
   "cell_type": "code",
   "execution_count": 49,
   "id": "d1460390",
   "metadata": {},
   "outputs": [
    {
     "ename": "NameError",
     "evalue": "name 'quit' is not defined",
     "output_type": "error",
     "traceback": [
      "\u001b[0;31m---------------------------------------------------------------------------\u001b[0m",
      "\u001b[0;31mNameError\u001b[0m                                 Traceback (most recent call last)",
      "\u001b[0;32m<ipython-input-49-3e373b269c72>\u001b[0m in \u001b[0;36m<module>\u001b[0;34m\u001b[0m\n\u001b[1;32m      2\u001b[0m \u001b[0;32mfrom\u001b[0m \u001b[0mtransforms\u001b[0m \u001b[0;32mimport\u001b[0m \u001b[0mpolygon_map\u001b[0m\u001b[0;34m\u001b[0m\u001b[0;34m\u001b[0m\u001b[0m\n\u001b[1;32m      3\u001b[0m \u001b[0;32mfrom\u001b[0m \u001b[0mteapot\u001b[0m \u001b[0;32mimport\u001b[0m \u001b[0mload_triangles\u001b[0m\u001b[0;34m\u001b[0m\u001b[0;34m\u001b[0m\u001b[0m\n\u001b[0;32m----> 4\u001b[0;31m \u001b[0mdraw_model\u001b[0m\u001b[0;34m(\u001b[0m\u001b[0mpolygon_map\u001b[0m\u001b[0;34m(\u001b[0m\u001b[0mtransform\u001b[0m\u001b[0;34m,\u001b[0m \u001b[0mload_triangles\u001b[0m\u001b[0;34m(\u001b[0m\u001b[0;34m)\u001b[0m\u001b[0;34m)\u001b[0m\u001b[0;34m)\u001b[0m\u001b[0;34m\u001b[0m\u001b[0;34m\u001b[0m\u001b[0m\n\u001b[0m",
      "\u001b[0;32m~/py/Math-for-Programmers/Chapter 05/draw_model.py\u001b[0m in \u001b[0;36mdraw_model\u001b[0;34m(faces, color_map, light, glRotatefArgs, get_matrix)\u001b[0m\n\u001b[1;32m     51\u001b[0m             \u001b[0;32mif\u001b[0m \u001b[0mevent\u001b[0m\u001b[0;34m.\u001b[0m\u001b[0mtype\u001b[0m \u001b[0;34m==\u001b[0m \u001b[0mpygame\u001b[0m\u001b[0;34m.\u001b[0m\u001b[0mQUIT\u001b[0m\u001b[0;34m:\u001b[0m\u001b[0;34m\u001b[0m\u001b[0;34m\u001b[0m\u001b[0m\n\u001b[1;32m     52\u001b[0m                 \u001b[0mpygame\u001b[0m\u001b[0;34m.\u001b[0m\u001b[0mquit\u001b[0m\u001b[0;34m(\u001b[0m\u001b[0;34m)\u001b[0m\u001b[0;34m\u001b[0m\u001b[0;34m\u001b[0m\u001b[0m\n\u001b[0;32m---> 53\u001b[0;31m                 \u001b[0mquit\u001b[0m\u001b[0;34m(\u001b[0m\u001b[0;34m)\u001b[0m\u001b[0;34m\u001b[0m\u001b[0;34m\u001b[0m\u001b[0m\n\u001b[0m\u001b[1;32m     54\u001b[0m \u001b[0;34m\u001b[0m\u001b[0m\n\u001b[1;32m     55\u001b[0m         \u001b[0mglClear\u001b[0m\u001b[0;34m(\u001b[0m\u001b[0mGL_COLOR_BUFFER_BIT\u001b[0m\u001b[0;34m|\u001b[0m\u001b[0mGL_DEPTH_BUFFER_BIT\u001b[0m\u001b[0;34m)\u001b[0m\u001b[0;34m\u001b[0m\u001b[0;34m\u001b[0m\u001b[0m\n",
      "\u001b[0;31mNameError\u001b[0m: name 'quit' is not defined"
     ]
    }
   ],
   "source": [
    "from draw_model import draw_model\n",
    "from transforms import polygon_map\n",
    "from teapot import load_triangles\n",
    "draw_model(polygon_map(transform, load_triangles()))"
   ]
  },
  {
   "cell_type": "code",
   "execution_count": 21,
   "id": "02288c75",
   "metadata": {},
   "outputs": [],
   "source": [
    "def multiply_matrix_vector(a,b):\n",
    "    return tuple(\n",
    "        sum(\n",
    "            row[n]*b[n]\n",
    "            for n in range(0,len(row))\n",
    "        )\n",
    "        for row in a\n",
    "    )"
   ]
  },
  {
   "cell_type": "code",
   "execution_count": 22,
   "id": "475b1f78",
   "metadata": {},
   "outputs": [],
   "source": [
    "a = ((1,2,3),(4,5,6),(7,8,9))"
   ]
  },
  {
   "cell_type": "code",
   "execution_count": 29,
   "id": "fc8148c6",
   "metadata": {},
   "outputs": [],
   "source": [
    "b = (2,4,6)"
   ]
  },
  {
   "cell_type": "code",
   "execution_count": 30,
   "id": "8d9be262",
   "metadata": {},
   "outputs": [
    {
     "data": {
      "text/plain": [
       "(28, 64, 100)"
      ]
     },
     "execution_count": 30,
     "metadata": {},
     "output_type": "execute_result"
    }
   ],
   "source": [
    "multiply_matrix_vector(a,b)"
   ]
  },
  {
   "cell_type": "code",
   "execution_count": 31,
   "id": "23ac93b4",
   "metadata": {},
   "outputs": [],
   "source": [
    "def multiply_matrix_vector_author(matrix, vector):\n",
    "    return tuple(\n",
    "        sum(vector_entry * matrix_entry\n",
    "               for vector_entry, matrix_entry in zip(row, vector)\n",
    "        )\n",
    "        for row in matrix\n",
    "    )"
   ]
  },
  {
   "cell_type": "code",
   "execution_count": 32,
   "id": "69936ba4",
   "metadata": {},
   "outputs": [
    {
     "data": {
      "text/plain": [
       "(28, 64, 100)"
      ]
     },
     "execution_count": 32,
     "metadata": {},
     "output_type": "execute_result"
    }
   ],
   "source": [
    "multiply_matrix_vector_author(a,b)"
   ]
  },
  {
   "cell_type": "code",
   "execution_count": 33,
   "id": "4ce1da57",
   "metadata": {},
   "outputs": [
    {
     "name": "stdout",
     "output_type": "stream",
     "text": [
      "[(1, 2), (2, 4), (3, 6)]\n",
      "[(4, 2), (5, 4), (6, 6)]\n",
      "[(7, 2), (8, 4), (9, 6)]\n"
     ]
    }
   ],
   "source": [
    "for row in a:\n",
    "    print(list(zip(row,b)))"
   ]
  },
  {
   "cell_type": "code",
   "execution_count": 34,
   "id": "cbf51cfa",
   "metadata": {},
   "outputs": [],
   "source": [
    "def multiply_matrix_vector_dot(matrix, vector):\n",
    "    return tuple(\n",
    "        dot(row, vector)\n",
    "        for row in matrix\n",
    "    )"
   ]
  },
  {
   "cell_type": "code",
   "execution_count": 35,
   "id": "b8b2f9c8",
   "metadata": {},
   "outputs": [
    {
     "ename": "NameError",
     "evalue": "name 'dot' is not defined",
     "output_type": "error",
     "traceback": [
      "\u001b[0;31m---------------------------------------------------------------------------\u001b[0m",
      "\u001b[0;31mNameError\u001b[0m                                 Traceback (most recent call last)",
      "\u001b[0;32m<ipython-input-35-1494a32d7d6e>\u001b[0m in \u001b[0;36m<module>\u001b[0;34m\u001b[0m\n\u001b[0;32m----> 1\u001b[0;31m \u001b[0mmultiply_matrix_vector_dot\u001b[0m\u001b[0;34m(\u001b[0m\u001b[0ma\u001b[0m\u001b[0;34m,\u001b[0m\u001b[0mb\u001b[0m\u001b[0;34m)\u001b[0m\u001b[0;34m\u001b[0m\u001b[0;34m\u001b[0m\u001b[0m\n\u001b[0m",
      "\u001b[0;32m<ipython-input-34-3215715ad180>\u001b[0m in \u001b[0;36mmultiply_matrix_vector_dot\u001b[0;34m(matrix, vector)\u001b[0m\n\u001b[1;32m      1\u001b[0m \u001b[0;32mdef\u001b[0m \u001b[0mmultiply_matrix_vector_dot\u001b[0m\u001b[0;34m(\u001b[0m\u001b[0mmatrix\u001b[0m\u001b[0;34m,\u001b[0m \u001b[0mvector\u001b[0m\u001b[0;34m)\u001b[0m\u001b[0;34m:\u001b[0m\u001b[0;34m\u001b[0m\u001b[0;34m\u001b[0m\u001b[0m\n\u001b[0;32m----> 2\u001b[0;31m     return tuple(\n\u001b[0m\u001b[1;32m      3\u001b[0m         \u001b[0mdot\u001b[0m\u001b[0;34m(\u001b[0m\u001b[0mrow\u001b[0m\u001b[0;34m,\u001b[0m \u001b[0mvector\u001b[0m\u001b[0;34m)\u001b[0m\u001b[0;34m\u001b[0m\u001b[0;34m\u001b[0m\u001b[0m\n\u001b[1;32m      4\u001b[0m         \u001b[0;32mfor\u001b[0m \u001b[0mrow\u001b[0m \u001b[0;32min\u001b[0m \u001b[0mmatrix\u001b[0m\u001b[0;34m\u001b[0m\u001b[0;34m\u001b[0m\u001b[0m\n\u001b[1;32m      5\u001b[0m     )\n",
      "\u001b[0;32m<ipython-input-34-3215715ad180>\u001b[0m in \u001b[0;36m<genexpr>\u001b[0;34m(.0)\u001b[0m\n\u001b[1;32m      1\u001b[0m \u001b[0;32mdef\u001b[0m \u001b[0mmultiply_matrix_vector_dot\u001b[0m\u001b[0;34m(\u001b[0m\u001b[0mmatrix\u001b[0m\u001b[0;34m,\u001b[0m \u001b[0mvector\u001b[0m\u001b[0;34m)\u001b[0m\u001b[0;34m:\u001b[0m\u001b[0;34m\u001b[0m\u001b[0;34m\u001b[0m\u001b[0m\n\u001b[1;32m      2\u001b[0m     return tuple(\n\u001b[0;32m----> 3\u001b[0;31m         \u001b[0mdot\u001b[0m\u001b[0;34m(\u001b[0m\u001b[0mrow\u001b[0m\u001b[0;34m,\u001b[0m \u001b[0mvector\u001b[0m\u001b[0;34m)\u001b[0m\u001b[0;34m\u001b[0m\u001b[0;34m\u001b[0m\u001b[0m\n\u001b[0m\u001b[1;32m      4\u001b[0m         \u001b[0;32mfor\u001b[0m \u001b[0mrow\u001b[0m \u001b[0;32min\u001b[0m \u001b[0mmatrix\u001b[0m\u001b[0;34m\u001b[0m\u001b[0;34m\u001b[0m\u001b[0m\n\u001b[1;32m      5\u001b[0m     )\n",
      "\u001b[0;31mNameError\u001b[0m: name 'dot' is not defined"
     ]
    }
   ],
   "source": [
    "multiply_matrix_vector_dot(a,b)"
   ]
  },
  {
   "cell_type": "code",
   "execution_count": null,
   "id": "c300a379",
   "metadata": {},
   "outputs": [],
   "source": []
  }
 ],
 "metadata": {
  "kernelspec": {
   "display_name": "Python 3",
   "language": "python",
   "name": "python3"
  },
  "language_info": {
   "codemirror_mode": {
    "name": "ipython",
    "version": 3
   },
   "file_extension": ".py",
   "mimetype": "text/x-python",
   "name": "python",
   "nbconvert_exporter": "python",
   "pygments_lexer": "ipython3",
   "version": "3.9.4"
  }
 },
 "nbformat": 4,
 "nbformat_minor": 5
}
