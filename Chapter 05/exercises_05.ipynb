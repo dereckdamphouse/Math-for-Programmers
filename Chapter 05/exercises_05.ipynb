{
 "cells": [
  {
   "cell_type": "code",
   "execution_count": 80,
   "id": "29b956bb",
   "metadata": {},
   "outputs": [],
   "source": [
    "from vectors import *"
   ]
  },
  {
   "cell_type": "code",
   "execution_count": 81,
   "id": "2e6d2343",
   "metadata": {},
   "outputs": [],
   "source": [
    "B = (\n",
    "    (0,2,1),\n",
    "    (0,1,0),\n",
    "    (1,0,-1)\n",
    ")\n",
    "v = (3,-2,5)"
   ]
  },
  {
   "cell_type": "code",
   "execution_count": 82,
   "id": "5191d5a6",
   "metadata": {},
   "outputs": [],
   "source": [
    "def multiply_matrix_vector(matrix, vector):\n",
    "    return linear_combination(vector, *zip(*matrix))"
   ]
  },
  {
   "cell_type": "code",
   "execution_count": 83,
   "id": "c7b2cc76",
   "metadata": {},
   "outputs": [
    {
     "data": {
      "text/plain": [
       "(1, -2, -2)"
      ]
     },
     "execution_count": 83,
     "metadata": {},
     "output_type": "execute_result"
    }
   ],
   "source": [
    "multiply_matrix_vector(B,v)"
   ]
  },
  {
   "cell_type": "code",
   "execution_count": 84,
   "id": "1224112d",
   "metadata": {},
   "outputs": [],
   "source": [
    "def matrix_multiply(a,b):\n",
    "    if len(a[0]) != len(b):\n",
    "        return \"matrix size mismatch \" + str(len(a[0])) + \" != \" + str(len(b))\n",
    "    return tuple(\n",
    "        tuple(dot(row,col) for col in zip(*b))\n",
    "        for row in a\n",
    "    )"
   ]
  },
  {
   "cell_type": "code",
   "execution_count": 85,
   "id": "8427c1e4",
   "metadata": {},
   "outputs": [],
   "source": [
    "a = ((1,1,0),(1,0,1),(1,-1,1))"
   ]
  },
  {
   "cell_type": "code",
   "execution_count": 86,
   "id": "75516fcf",
   "metadata": {},
   "outputs": [],
   "source": [
    "b = ((0,2,1),(0,1,0),(1,0,-1))"
   ]
  },
  {
   "cell_type": "code",
   "execution_count": 87,
   "id": "3185f92f",
   "metadata": {},
   "outputs": [
    {
     "data": {
      "text/plain": [
       "((0, 3, 1), (1, 2, 0), (1, 1, 0))"
      ]
     },
     "execution_count": 87,
     "metadata": {},
     "output_type": "execute_result"
    }
   ],
   "source": [
    "matrix_multiply(a,b)"
   ]
  },
  {
   "cell_type": "code",
   "execution_count": 88,
   "id": "9fa44947",
   "metadata": {},
   "outputs": [],
   "source": [
    "def infer_matrix(n, transformation):\n",
    "    def standard_base_vector(i):\n",
    "        return tuple(1 if i==j else 0 for j in range(1,n+1))\n",
    "    standard_basis = [standard_base_vector(i) for i in range(1,n+1)]\n",
    "    cols = [transformation(v) for v in standard_basis]\n",
    "    return tuple(zip(*cols))"
   ]
  },
  {
   "cell_type": "code",
   "execution_count": 89,
   "id": "49f7438f",
   "metadata": {},
   "outputs": [],
   "source": [
    "from transforms import rotate_z_by\n",
    "from math import pi"
   ]
  },
  {
   "cell_type": "code",
   "execution_count": 90,
   "id": "b72b7212",
   "metadata": {},
   "outputs": [
    {
     "data": {
      "text/plain": [
       "((6.123233995736766e-17, -1.0, 0.0),\n",
       " (1.0, 1.2246467991473532e-16, 0.0),\n",
       " (0, 0, 1))"
      ]
     },
     "execution_count": 90,
     "metadata": {},
     "output_type": "execute_result"
    }
   ],
   "source": [
    "infer_matrix(3,rotate_z_by(pi/2))"
   ]
  },
  {
   "cell_type": "code",
   "execution_count": 91,
   "id": "1f2fd04b",
   "metadata": {},
   "outputs": [],
   "source": [
    "a = ((1.3,0.7),(6.5,3.2))"
   ]
  },
  {
   "cell_type": "code",
   "execution_count": 92,
   "id": "b15c98fd",
   "metadata": {},
   "outputs": [],
   "source": [
    "b = (-2.5,0.3)"
   ]
  },
  {
   "cell_type": "code",
   "execution_count": 93,
   "id": "c4e7233a",
   "metadata": {},
   "outputs": [
    {
     "data": {
      "text/plain": [
       "(-3.46, -15.29)"
      ]
     },
     "execution_count": 93,
     "metadata": {},
     "output_type": "execute_result"
    }
   ],
   "source": [
    "(-2.5*1.3+0.3*-0.7,-2.5*6.5+0.3*3.2)"
   ]
  },
  {
   "cell_type": "code",
   "execution_count": 94,
   "id": "462f2606",
   "metadata": {},
   "outputs": [],
   "source": [
    "from random import randrange"
   ]
  },
  {
   "cell_type": "code",
   "execution_count": 95,
   "id": "3839de07",
   "metadata": {},
   "outputs": [],
   "source": [
    "def random_matrix(n):\n",
    "    def create_matrix():\n",
    "        return tuple(tuple(randrange(10) for _ in range(0,n)) for _ in range(0,n))\n",
    "    a = create_matrix()\n",
    "    b = create_matrix()\n",
    "    print(a,b)\n",
    "    return matrix_multiply(a,b)"
   ]
  },
  {
   "cell_type": "code",
   "execution_count": 96,
   "id": "9e897f06",
   "metadata": {},
   "outputs": [
    {
     "name": "stdout",
     "output_type": "stream",
     "text": [
      "((5, 3, 5), (1, 0, 9), (4, 4, 8)) ((6, 9, 2), (8, 0, 2), (3, 7, 0))\n"
     ]
    },
    {
     "data": {
      "text/plain": [
       "((69, 80, 16), (33, 72, 2), (80, 92, 16))"
      ]
     },
     "execution_count": 96,
     "metadata": {},
     "output_type": "execute_result"
    }
   ],
   "source": [
    "random_matrix(3)"
   ]
  },
  {
   "cell_type": "code",
   "execution_count": 97,
   "id": "0fe55e93",
   "metadata": {},
   "outputs": [],
   "source": [
    "def transform(v):\n",
    "    m = ((2,1,1),(1,2,1),(1,1,2))\n",
    "    return multiply_matrix_vector(m,v)"
   ]
  },
  {
   "cell_type": "code",
   "execution_count": 98,
   "id": "d1460390",
   "metadata": {},
   "outputs": [],
   "source": [
    "from draw_model import draw_model\n",
    "from transforms import polygon_map\n",
    "from teapot import load_triangles\n",
    "# draw_model(polygon_map(transform, load_triangles()))"
   ]
  },
  {
   "cell_type": "code",
   "execution_count": 99,
   "id": "02288c75",
   "metadata": {},
   "outputs": [],
   "source": [
    "def multiply_matrix_vector(a,b):\n",
    "    return tuple(\n",
    "        sum(\n",
    "            row[n]*b[n]\n",
    "            for n in range(0,len(row))\n",
    "        )\n",
    "        for row in a\n",
    "    )"
   ]
  },
  {
   "cell_type": "code",
   "execution_count": 100,
   "id": "bbc2e66b",
   "metadata": {},
   "outputs": [],
   "source": [
    "a = ((1,2,3),(4,5,6),(7,8,9))"
   ]
  },
  {
   "cell_type": "code",
   "execution_count": 101,
   "id": "39571b3c",
   "metadata": {},
   "outputs": [],
   "source": [
    "b = (2,4,6)"
   ]
  },
  {
   "cell_type": "code",
   "execution_count": 102,
   "id": "2fbebace",
   "metadata": {},
   "outputs": [
    {
     "data": {
      "text/plain": [
       "(28, 64, 100)"
      ]
     },
     "execution_count": 102,
     "metadata": {},
     "output_type": "execute_result"
    }
   ],
   "source": [
    "multiply_matrix_vector(a,b)"
   ]
  },
  {
   "cell_type": "code",
   "execution_count": 103,
   "id": "9514b1fc",
   "metadata": {},
   "outputs": [],
   "source": [
    "def multiply_matrix_vector_author(matrix, vector):\n",
    "    return tuple(\n",
    "        sum(vector_entry * matrix_entry\n",
    "               for vector_entry, matrix_entry in zip(row, vector)\n",
    "        )\n",
    "        for row in matrix\n",
    "    )"
   ]
  },
  {
   "cell_type": "code",
   "execution_count": 104,
   "id": "05b286be",
   "metadata": {},
   "outputs": [
    {
     "data": {
      "text/plain": [
       "(28, 64, 100)"
      ]
     },
     "execution_count": 104,
     "metadata": {},
     "output_type": "execute_result"
    }
   ],
   "source": [
    "multiply_matrix_vector_author(a,b)"
   ]
  },
  {
   "cell_type": "code",
   "execution_count": 105,
   "id": "c87fb4b4",
   "metadata": {},
   "outputs": [
    {
     "name": "stdout",
     "output_type": "stream",
     "text": [
      "[(1, 2), (2, 4), (3, 6)]\n",
      "[(4, 2), (5, 4), (6, 6)]\n",
      "[(7, 2), (8, 4), (9, 6)]\n"
     ]
    }
   ],
   "source": [
    "for row in a:\n",
    "    print(list(zip(row,b)))"
   ]
  },
  {
   "cell_type": "code",
   "execution_count": 106,
   "id": "c68c3eee",
   "metadata": {},
   "outputs": [],
   "source": [
    "def multiply_matrix_vector_dot(matrix, vector):\n",
    "    return tuple(\n",
    "        dot(row, vector)\n",
    "        for row in matrix\n",
    "    )"
   ]
  },
  {
   "cell_type": "code",
   "execution_count": 107,
   "id": "4c5fbe0d",
   "metadata": {},
   "outputs": [
    {
     "data": {
      "text/plain": [
       "(28, 64, 100)"
      ]
     },
     "execution_count": 107,
     "metadata": {},
     "output_type": "execute_result"
    }
   ],
   "source": [
    "multiply_matrix_vector_dot(a,b)"
   ]
  },
  {
   "cell_type": "code",
   "execution_count": 108,
   "id": "28b4ee41",
   "metadata": {},
   "outputs": [],
   "source": [
    "a = (\n",
    "    (1,1,0),\n",
    "    (1,0,1),\n",
    "    (1,-1,1)\n",
    ")\n",
    "b = (\n",
    "    (0,2,1),\n",
    "    (0,1,0),\n",
    "    (1,0,-1)\n",
    ")"
   ]
  },
  {
   "cell_type": "code",
   "execution_count": 109,
   "id": "4827e55e",
   "metadata": {},
   "outputs": [],
   "source": [
    "from transforms import compose"
   ]
  },
  {
   "cell_type": "code",
   "execution_count": 110,
   "id": "bf67794c",
   "metadata": {},
   "outputs": [],
   "source": [
    "def transform_a(v):\n",
    "    return multiply_matrix_vector(a,v)"
   ]
  },
  {
   "cell_type": "code",
   "execution_count": 111,
   "id": "4b9954f0",
   "metadata": {},
   "outputs": [],
   "source": [
    "def transform_b(v):\n",
    "    return multiply_matrix_vector(b,v)"
   ]
  },
  {
   "cell_type": "code",
   "execution_count": 112,
   "id": "3d70c8ba",
   "metadata": {},
   "outputs": [],
   "source": [
    "compose_a_b = compose(transform_a, transform_b)"
   ]
  },
  {
   "cell_type": "code",
   "execution_count": 113,
   "id": "da28222b",
   "metadata": {},
   "outputs": [
    {
     "data": {
      "text/plain": [
       "((0, 3, 1), (1, 2, 0), (1, 1, 0))"
      ]
     },
     "execution_count": 113,
     "metadata": {},
     "output_type": "execute_result"
    }
   ],
   "source": [
    "infer_matrix(3, compose_a_b)"
   ]
  },
  {
   "cell_type": "code",
   "execution_count": 114,
   "id": "684bd945",
   "metadata": {},
   "outputs": [
    {
     "data": {
      "text/plain": [
       "((0, 3, 1), (1, 2, 0), (1, 1, 0))"
      ]
     },
     "execution_count": 114,
     "metadata": {},
     "output_type": "execute_result"
    }
   ],
   "source": [
    "matrix_multiply(a,b)"
   ]
  },
  {
   "cell_type": "code",
   "execution_count": 115,
   "id": "4933c1ad",
   "metadata": {},
   "outputs": [],
   "source": [
    "def matrix_power(power, matrix):\n",
    "    result = matrix\n",
    "    for _ in range(1,power):\n",
    "        result = matrix_multiply(matrix,result)\n",
    "    return result"
   ]
  },
  {
   "cell_type": "code",
   "execution_count": 116,
   "id": "d78195a0",
   "metadata": {},
   "outputs": [
    {
     "data": {
      "text/plain": [
       "((4, 1, 2), (3, 1, 1), (1, 1, 0))"
      ]
     },
     "execution_count": 116,
     "metadata": {},
     "output_type": "execute_result"
    }
   ],
   "source": [
    "matrix_power(3,a)"
   ]
  },
  {
   "cell_type": "code",
   "execution_count": 117,
   "id": "c82a0ac8",
   "metadata": {},
   "outputs": [
    {
     "data": {
      "text/plain": [
       "((0, 3, 1), (1, 2, 0), (1, 1, 0))"
      ]
     },
     "execution_count": 117,
     "metadata": {},
     "output_type": "execute_result"
    }
   ],
   "source": [
    "# testing new nxm check\n",
    "matrix_multiply(a,b)"
   ]
  },
  {
   "cell_type": "code",
   "execution_count": 118,
   "id": "abfd7ab3",
   "metadata": {},
   "outputs": [],
   "source": [
    "# 3x2\n",
    "a = (\n",
    "    (1,2),\n",
    "    (3,4),\n",
    "    (5,6)\n",
    ")"
   ]
  },
  {
   "cell_type": "code",
   "execution_count": 119,
   "id": "2c49fd96",
   "metadata": {},
   "outputs": [],
   "source": [
    "# 4x5\n",
    "b = (\n",
    "    (1,2,3,4,5),\n",
    "    (6,7,8,9,1),\n",
    "    (1,2,3,4,5),\n",
    "    (6,7,8,9,1)\n",
    ")"
   ]
  },
  {
   "cell_type": "code",
   "execution_count": 120,
   "id": "38612ebe",
   "metadata": {},
   "outputs": [
    {
     "data": {
      "text/plain": [
       "'matrix size mismatch 2 != 4'"
      ]
     },
     "execution_count": 120,
     "metadata": {},
     "output_type": "execute_result"
    }
   ],
   "source": [
    "matrix_multiply(a,b)"
   ]
  },
  {
   "cell_type": "code",
   "execution_count": 152,
   "id": "319f6a89",
   "metadata": {},
   "outputs": [],
   "source": [
    "def transpose(v):\n",
    "    return tuple(zip(*v))"
   ]
  },
  {
   "cell_type": "code",
   "execution_count": 153,
   "id": "25be2baa",
   "metadata": {},
   "outputs": [],
   "source": [
    "a = ((1,),(2,),(3,))\n",
    "b = ((1,2,3),)"
   ]
  },
  {
   "cell_type": "code",
   "execution_count": 154,
   "id": "17f65b6b",
   "metadata": {},
   "outputs": [
    {
     "data": {
      "text/plain": [
       "((1, 2, 3),)"
      ]
     },
     "execution_count": 154,
     "metadata": {},
     "output_type": "execute_result"
    }
   ],
   "source": [
    "transpose(a)"
   ]
  },
  {
   "cell_type": "code",
   "execution_count": 155,
   "id": "a856cd35",
   "metadata": {},
   "outputs": [
    {
     "data": {
      "text/plain": [
       "((1,), (2,), (3,))"
      ]
     },
     "execution_count": 155,
     "metadata": {},
     "output_type": "execute_result"
    }
   ],
   "source": [
    "transpose(b)"
   ]
  },
  {
   "cell_type": "code",
   "execution_count": null,
   "id": "81bdc65d",
   "metadata": {},
   "outputs": [],
   "source": []
  }
 ],
 "metadata": {
  "kernelspec": {
   "display_name": "Python 3",
   "language": "python",
   "name": "python3"
  },
  "language_info": {
   "codemirror_mode": {
    "name": "ipython",
    "version": 3
   },
   "file_extension": ".py",
   "mimetype": "text/x-python",
   "name": "python",
   "nbconvert_exporter": "python",
   "pygments_lexer": "ipython3",
   "version": "3.9.4"
  }
 },
 "nbformat": 4,
 "nbformat_minor": 5
}
