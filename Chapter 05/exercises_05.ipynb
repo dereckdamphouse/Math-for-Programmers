{
 "cells": [
  {
   "cell_type": "code",
   "execution_count": 150,
   "id": "29b956bb",
   "metadata": {},
   "outputs": [],
   "source": [
    "from vectors import *"
   ]
  },
  {
   "cell_type": "code",
   "execution_count": 151,
   "id": "2e6d2343",
   "metadata": {},
   "outputs": [],
   "source": [
    "B = (\n",
    "    (0,2,1),\n",
    "    (0,1,0),\n",
    "    (1,0,-1)\n",
    ")\n",
    "v = (3,-2,5)"
   ]
  },
  {
   "cell_type": "code",
   "execution_count": 152,
   "id": "5191d5a6",
   "metadata": {},
   "outputs": [],
   "source": [
    "def multiply_matrix_vector(matrix, vector):\n",
    "    return linear_combination(vector, *zip(*matrix))"
   ]
  },
  {
   "cell_type": "code",
   "execution_count": 153,
   "id": "c7b2cc76",
   "metadata": {},
   "outputs": [
    {
     "data": {
      "text/plain": [
       "(1, -2, -2)"
      ]
     },
     "execution_count": 153,
     "metadata": {},
     "output_type": "execute_result"
    }
   ],
   "source": [
    "multiply_matrix_vector(B,v)"
   ]
  },
  {
   "cell_type": "code",
   "execution_count": 154,
   "id": "1224112d",
   "metadata": {},
   "outputs": [],
   "source": [
    "def matrix_multiply(a,b):\n",
    "    if len(a[0]) != len(b):\n",
    "        return \"matrix size mismatch \" + str(len(a[0])) + \" != \" + str(len(b))\n",
    "    return tuple(\n",
    "        tuple(dot(row,col) for col in zip(*b))\n",
    "        for row in a\n",
    "    )"
   ]
  },
  {
   "cell_type": "code",
   "execution_count": 155,
   "id": "8427c1e4",
   "metadata": {},
   "outputs": [],
   "source": [
    "a = ((1,1,0),(1,0,1),(1,-1,1))"
   ]
  },
  {
   "cell_type": "code",
   "execution_count": 156,
   "id": "75516fcf",
   "metadata": {},
   "outputs": [],
   "source": [
    "b = ((0,2,1),(0,1,0),(1,0,-1))"
   ]
  },
  {
   "cell_type": "code",
   "execution_count": 157,
   "id": "3185f92f",
   "metadata": {},
   "outputs": [
    {
     "data": {
      "text/plain": [
       "((0, 3, 1), (1, 2, 0), (1, 1, 0))"
      ]
     },
     "execution_count": 157,
     "metadata": {},
     "output_type": "execute_result"
    }
   ],
   "source": [
    "matrix_multiply(a,b)"
   ]
  },
  {
   "cell_type": "code",
   "execution_count": 158,
   "id": "9fa44947",
   "metadata": {},
   "outputs": [],
   "source": [
    "def infer_matrix(n, transformation):\n",
    "    def standard_base_vector(i):\n",
    "        return tuple(1 if i==j else 0 for j in range(1,n+1))\n",
    "    standard_basis = [standard_base_vector(i) for i in range(1,n+1)]\n",
    "    cols = [transformation(v) for v in standard_basis]\n",
    "    return tuple(zip(*cols))"
   ]
  },
  {
   "cell_type": "code",
   "execution_count": 159,
   "id": "49f7438f",
   "metadata": {},
   "outputs": [],
   "source": [
    "from transforms import rotate_z_by\n",
    "from math import pi"
   ]
  },
  {
   "cell_type": "code",
   "execution_count": 160,
   "id": "b72b7212",
   "metadata": {},
   "outputs": [
    {
     "data": {
      "text/plain": [
       "((6.123233995736766e-17, -1.0, 0.0),\n",
       " (1.0, 1.2246467991473532e-16, 0.0),\n",
       " (0, 0, 1))"
      ]
     },
     "execution_count": 160,
     "metadata": {},
     "output_type": "execute_result"
    }
   ],
   "source": [
    "infer_matrix(3,rotate_z_by(pi/2))"
   ]
  },
  {
   "cell_type": "code",
   "execution_count": 161,
   "id": "1f2fd04b",
   "metadata": {},
   "outputs": [],
   "source": [
    "a = ((1.3,0.7),(6.5,3.2))"
   ]
  },
  {
   "cell_type": "code",
   "execution_count": 162,
   "id": "b15c98fd",
   "metadata": {},
   "outputs": [],
   "source": [
    "b = (-2.5,0.3)"
   ]
  },
  {
   "cell_type": "code",
   "execution_count": 163,
   "id": "c4e7233a",
   "metadata": {},
   "outputs": [
    {
     "data": {
      "text/plain": [
       "(-3.46, -15.29)"
      ]
     },
     "execution_count": 163,
     "metadata": {},
     "output_type": "execute_result"
    }
   ],
   "source": [
    "(-2.5*1.3+0.3*-0.7,-2.5*6.5+0.3*3.2)"
   ]
  },
  {
   "cell_type": "code",
   "execution_count": 164,
   "id": "462f2606",
   "metadata": {},
   "outputs": [],
   "source": [
    "from random import randrange"
   ]
  },
  {
   "cell_type": "code",
   "execution_count": 165,
   "id": "3839de07",
   "metadata": {},
   "outputs": [],
   "source": [
    "def random_matrix(n):\n",
    "    def create_matrix():\n",
    "        return tuple(tuple(randrange(10) for _ in range(0,n)) for _ in range(0,n))\n",
    "    a = create_matrix()\n",
    "    b = create_matrix()\n",
    "    print(a,b)\n",
    "    return matrix_multiply(a,b)"
   ]
  },
  {
   "cell_type": "code",
   "execution_count": 166,
   "id": "9e897f06",
   "metadata": {},
   "outputs": [
    {
     "name": "stdout",
     "output_type": "stream",
     "text": [
      "((2, 0, 9), (7, 5, 0), (9, 3, 4)) ((9, 8, 3), (8, 6, 4), (4, 2, 0))\n"
     ]
    },
    {
     "data": {
      "text/plain": [
       "((54, 34, 6), (103, 86, 41), (121, 98, 39))"
      ]
     },
     "execution_count": 166,
     "metadata": {},
     "output_type": "execute_result"
    }
   ],
   "source": [
    "random_matrix(3)"
   ]
  },
  {
   "cell_type": "code",
   "execution_count": 167,
   "id": "0fe55e93",
   "metadata": {},
   "outputs": [],
   "source": [
    "def transform(v):\n",
    "    m = ((2,1,1),(1,2,1),(1,1,2))\n",
    "    return multiply_matrix_vector(m,v)"
   ]
  },
  {
   "cell_type": "code",
   "execution_count": 243,
   "id": "d1460390",
   "metadata": {},
   "outputs": [
    {
     "ename": "error",
     "evalue": "OpenGL support is either not configured in SDL or not available in current SDL video driver (dummy) or platform",
     "output_type": "error",
     "traceback": [
      "\u001b[0;31m---------------------------------------------------------------------------\u001b[0m",
      "\u001b[0;31merror\u001b[0m                                     Traceback (most recent call last)",
      "\u001b[0;32m<ipython-input-243-5b444cea89f4>\u001b[0m in \u001b[0;36m<module>\u001b[0;34m\u001b[0m\n\u001b[1;32m      5\u001b[0m \u001b[0;32mfrom\u001b[0m \u001b[0mtransforms\u001b[0m \u001b[0;32mimport\u001b[0m \u001b[0mpolygon_map\u001b[0m\u001b[0;34m\u001b[0m\u001b[0;34m\u001b[0m\u001b[0m\n\u001b[1;32m      6\u001b[0m \u001b[0;32mfrom\u001b[0m \u001b[0mteapot\u001b[0m \u001b[0;32mimport\u001b[0m \u001b[0mload_triangles\u001b[0m\u001b[0;34m\u001b[0m\u001b[0;34m\u001b[0m\u001b[0m\n\u001b[0;32m----> 7\u001b[0;31m \u001b[0mdraw_model\u001b[0m\u001b[0;34m(\u001b[0m\u001b[0mpolygon_map\u001b[0m\u001b[0;34m(\u001b[0m\u001b[0mtransform\u001b[0m\u001b[0;34m,\u001b[0m \u001b[0mload_triangles\u001b[0m\u001b[0;34m(\u001b[0m\u001b[0;34m)\u001b[0m\u001b[0;34m)\u001b[0m\u001b[0;34m)\u001b[0m\u001b[0;34m\u001b[0m\u001b[0;34m\u001b[0m\u001b[0m\n\u001b[0m",
      "\u001b[0;32m~/py/Math-for-Programmers/Chapter 05/draw_model.py\u001b[0m in \u001b[0;36mdraw_model\u001b[0;34m(faces, color_map, light, glRotatefArgs, get_matrix)\u001b[0m\n\u001b[1;32m     35\u001b[0m     \u001b[0mpygame\u001b[0m\u001b[0;34m.\u001b[0m\u001b[0minit\u001b[0m\u001b[0;34m(\u001b[0m\u001b[0;34m)\u001b[0m\u001b[0;34m\u001b[0m\u001b[0;34m\u001b[0m\u001b[0m\n\u001b[1;32m     36\u001b[0m     \u001b[0mdisplay\u001b[0m \u001b[0;34m=\u001b[0m \u001b[0;34m(\u001b[0m\u001b[0;36m400\u001b[0m\u001b[0;34m,\u001b[0m\u001b[0;36m400\u001b[0m\u001b[0;34m)\u001b[0m\u001b[0;34m\u001b[0m\u001b[0;34m\u001b[0m\u001b[0m\n\u001b[0;32m---> 37\u001b[0;31m     \u001b[0mwindow\u001b[0m \u001b[0;34m=\u001b[0m \u001b[0mpygame\u001b[0m\u001b[0;34m.\u001b[0m\u001b[0mdisplay\u001b[0m\u001b[0;34m.\u001b[0m\u001b[0mset_mode\u001b[0m\u001b[0;34m(\u001b[0m\u001b[0mdisplay\u001b[0m\u001b[0;34m,\u001b[0m \u001b[0mDOUBLEBUF\u001b[0m\u001b[0;34m|\u001b[0m\u001b[0mOPENGL\u001b[0m\u001b[0;34m)\u001b[0m\u001b[0;34m\u001b[0m\u001b[0;34m\u001b[0m\u001b[0m\n\u001b[0m\u001b[1;32m     38\u001b[0m     \u001b[0mcam\u001b[0m \u001b[0;34m=\u001b[0m \u001b[0mcamera\u001b[0m\u001b[0;34m.\u001b[0m\u001b[0mdefault_camera\u001b[0m\u001b[0;34m\u001b[0m\u001b[0;34m\u001b[0m\u001b[0m\n\u001b[1;32m     39\u001b[0m     \u001b[0mcam\u001b[0m\u001b[0;34m.\u001b[0m\u001b[0mset_window\u001b[0m\u001b[0;34m(\u001b[0m\u001b[0mwindow\u001b[0m\u001b[0;34m)\u001b[0m\u001b[0;34m\u001b[0m\u001b[0;34m\u001b[0m\u001b[0m\n",
      "\u001b[0;31merror\u001b[0m: OpenGL support is either not configured in SDL or not available in current SDL video driver (dummy) or platform"
     ]
    }
   ],
   "source": [
    "import os\n",
    "os.environ['DISPLAY'] = ': 0.0'\n",
    "os.environ[\"SDL_VIDEODRIVER\"] = \"dummy\"\n",
    "from draw_model import draw_model\n",
    "from transforms import polygon_map\n",
    "from teapot import load_triangles\n",
    "draw_model(polygon_map(transform, load_triangles()))"
   ]
  },
  {
   "cell_type": "code",
   "execution_count": 169,
   "id": "02288c75",
   "metadata": {},
   "outputs": [],
   "source": [
    "def multiply_matrix_vector(a,b):\n",
    "    return tuple(\n",
    "        sum(\n",
    "            row[n]*b[n]\n",
    "            for n in range(0,len(row))\n",
    "        )\n",
    "        for row in a\n",
    "    )"
   ]
  },
  {
   "cell_type": "code",
   "execution_count": 170,
   "id": "bbc2e66b",
   "metadata": {},
   "outputs": [],
   "source": [
    "a = ((1,2,3),(4,5,6),(7,8,9))"
   ]
  },
  {
   "cell_type": "code",
   "execution_count": 171,
   "id": "39571b3c",
   "metadata": {},
   "outputs": [],
   "source": [
    "b = (2,4,6)"
   ]
  },
  {
   "cell_type": "code",
   "execution_count": 172,
   "id": "2fbebace",
   "metadata": {},
   "outputs": [
    {
     "data": {
      "text/plain": [
       "(28, 64, 100)"
      ]
     },
     "execution_count": 172,
     "metadata": {},
     "output_type": "execute_result"
    }
   ],
   "source": [
    "multiply_matrix_vector(a,b)"
   ]
  },
  {
   "cell_type": "code",
   "execution_count": 173,
   "id": "9514b1fc",
   "metadata": {},
   "outputs": [],
   "source": [
    "def multiply_matrix_vector_author(matrix, vector):\n",
    "    return tuple(\n",
    "        sum(vector_entry * matrix_entry\n",
    "               for vector_entry, matrix_entry in zip(row, vector)\n",
    "        )\n",
    "        for row in matrix\n",
    "    )"
   ]
  },
  {
   "cell_type": "code",
   "execution_count": 174,
   "id": "05b286be",
   "metadata": {},
   "outputs": [
    {
     "data": {
      "text/plain": [
       "(28, 64, 100)"
      ]
     },
     "execution_count": 174,
     "metadata": {},
     "output_type": "execute_result"
    }
   ],
   "source": [
    "multiply_matrix_vector_author(a,b)"
   ]
  },
  {
   "cell_type": "code",
   "execution_count": 175,
   "id": "c87fb4b4",
   "metadata": {},
   "outputs": [
    {
     "name": "stdout",
     "output_type": "stream",
     "text": [
      "[(1, 2), (2, 4), (3, 6)]\n",
      "[(4, 2), (5, 4), (6, 6)]\n",
      "[(7, 2), (8, 4), (9, 6)]\n"
     ]
    }
   ],
   "source": [
    "for row in a:\n",
    "    print(list(zip(row,b)))"
   ]
  },
  {
   "cell_type": "code",
   "execution_count": 176,
   "id": "c68c3eee",
   "metadata": {},
   "outputs": [],
   "source": [
    "def multiply_matrix_vector_dot(matrix, vector):\n",
    "    return tuple(\n",
    "        dot(row, vector)\n",
    "        for row in matrix\n",
    "    )"
   ]
  },
  {
   "cell_type": "code",
   "execution_count": 177,
   "id": "4c5fbe0d",
   "metadata": {},
   "outputs": [
    {
     "data": {
      "text/plain": [
       "(28, 64, 100)"
      ]
     },
     "execution_count": 177,
     "metadata": {},
     "output_type": "execute_result"
    }
   ],
   "source": [
    "multiply_matrix_vector_dot(a,b)"
   ]
  },
  {
   "cell_type": "code",
   "execution_count": 178,
   "id": "28b4ee41",
   "metadata": {},
   "outputs": [],
   "source": [
    "a = (\n",
    "    (1,1,0),\n",
    "    (1,0,1),\n",
    "    (1,-1,1)\n",
    ")\n",
    "b = (\n",
    "    (0,2,1),\n",
    "    (0,1,0),\n",
    "    (1,0,-1)\n",
    ")"
   ]
  },
  {
   "cell_type": "code",
   "execution_count": 179,
   "id": "4827e55e",
   "metadata": {},
   "outputs": [],
   "source": [
    "from transforms import compose"
   ]
  },
  {
   "cell_type": "code",
   "execution_count": 180,
   "id": "bf67794c",
   "metadata": {},
   "outputs": [],
   "source": [
    "def transform_a(v):\n",
    "    return multiply_matrix_vector(a,v)"
   ]
  },
  {
   "cell_type": "code",
   "execution_count": 181,
   "id": "4b9954f0",
   "metadata": {},
   "outputs": [],
   "source": [
    "def transform_b(v):\n",
    "    return multiply_matrix_vector(b,v)"
   ]
  },
  {
   "cell_type": "code",
   "execution_count": 182,
   "id": "3d70c8ba",
   "metadata": {},
   "outputs": [],
   "source": [
    "compose_a_b = compose(transform_a, transform_b)"
   ]
  },
  {
   "cell_type": "code",
   "execution_count": 183,
   "id": "da28222b",
   "metadata": {},
   "outputs": [
    {
     "data": {
      "text/plain": [
       "((0, 3, 1), (1, 2, 0), (1, 1, 0))"
      ]
     },
     "execution_count": 183,
     "metadata": {},
     "output_type": "execute_result"
    }
   ],
   "source": [
    "infer_matrix(3, compose_a_b)"
   ]
  },
  {
   "cell_type": "code",
   "execution_count": 184,
   "id": "684bd945",
   "metadata": {},
   "outputs": [
    {
     "data": {
      "text/plain": [
       "((0, 3, 1), (1, 2, 0), (1, 1, 0))"
      ]
     },
     "execution_count": 184,
     "metadata": {},
     "output_type": "execute_result"
    }
   ],
   "source": [
    "matrix_multiply(a,b)"
   ]
  },
  {
   "cell_type": "code",
   "execution_count": 185,
   "id": "4933c1ad",
   "metadata": {},
   "outputs": [],
   "source": [
    "def matrix_power(power, matrix):\n",
    "    result = matrix\n",
    "    for _ in range(1,power):\n",
    "        result = matrix_multiply(matrix,result)\n",
    "    return result"
   ]
  },
  {
   "cell_type": "code",
   "execution_count": 186,
   "id": "d78195a0",
   "metadata": {},
   "outputs": [
    {
     "data": {
      "text/plain": [
       "((4, 1, 2), (3, 1, 1), (1, 1, 0))"
      ]
     },
     "execution_count": 186,
     "metadata": {},
     "output_type": "execute_result"
    }
   ],
   "source": [
    "matrix_power(3,a)"
   ]
  },
  {
   "cell_type": "code",
   "execution_count": 187,
   "id": "c82a0ac8",
   "metadata": {},
   "outputs": [
    {
     "data": {
      "text/plain": [
       "((0, 3, 1), (1, 2, 0), (1, 1, 0))"
      ]
     },
     "execution_count": 187,
     "metadata": {},
     "output_type": "execute_result"
    }
   ],
   "source": [
    "# testing new nxm check\n",
    "matrix_multiply(a,b)"
   ]
  },
  {
   "cell_type": "code",
   "execution_count": 188,
   "id": "abfd7ab3",
   "metadata": {},
   "outputs": [],
   "source": [
    "# 3x2\n",
    "a = (\n",
    "    (1,2),\n",
    "    (3,4),\n",
    "    (5,6)\n",
    ")"
   ]
  },
  {
   "cell_type": "code",
   "execution_count": 189,
   "id": "2c49fd96",
   "metadata": {},
   "outputs": [],
   "source": [
    "# 4x5\n",
    "b = (\n",
    "    (1,2,3,4,5),\n",
    "    (6,7,8,9,1),\n",
    "    (1,2,3,4,5),\n",
    "    (6,7,8,9,1)\n",
    ")"
   ]
  },
  {
   "cell_type": "code",
   "execution_count": 190,
   "id": "38612ebe",
   "metadata": {},
   "outputs": [
    {
     "data": {
      "text/plain": [
       "'matrix size mismatch 2 != 4'"
      ]
     },
     "execution_count": 190,
     "metadata": {},
     "output_type": "execute_result"
    }
   ],
   "source": [
    "matrix_multiply(a,b)"
   ]
  },
  {
   "cell_type": "code",
   "execution_count": 191,
   "id": "319f6a89",
   "metadata": {},
   "outputs": [],
   "source": [
    "def transpose(v):\n",
    "    return tuple(zip(*v))"
   ]
  },
  {
   "cell_type": "code",
   "execution_count": 192,
   "id": "25be2baa",
   "metadata": {},
   "outputs": [],
   "source": [
    "a = ((1,),(2,),(3,))\n",
    "b = ((1,2,3),)"
   ]
  },
  {
   "cell_type": "code",
   "execution_count": 193,
   "id": "17f65b6b",
   "metadata": {},
   "outputs": [
    {
     "data": {
      "text/plain": [
       "((1, 2, 3),)"
      ]
     },
     "execution_count": 193,
     "metadata": {},
     "output_type": "execute_result"
    }
   ],
   "source": [
    "transpose(a)"
   ]
  },
  {
   "cell_type": "code",
   "execution_count": 194,
   "id": "a856cd35",
   "metadata": {},
   "outputs": [
    {
     "data": {
      "text/plain": [
       "((1,), (2,), (3,))"
      ]
     },
     "execution_count": 194,
     "metadata": {},
     "output_type": "execute_result"
    }
   ],
   "source": [
    "transpose(b)"
   ]
  },
  {
   "cell_type": "code",
   "execution_count": 218,
   "id": "81bdc65d",
   "metadata": {},
   "outputs": [],
   "source": [
    "from vector_drawing import *"
   ]
  },
  {
   "cell_type": "code",
   "execution_count": 219,
   "id": "d0183069",
   "metadata": {},
   "outputs": [],
   "source": [
    "dino_vectors = [(6,4), (3,1), (1,2), (-1,5), (-2,5), (-3,4), (-4,4),\n",
    "    (-5,3), (-5,2), (-2,2), (-5,1), (-4,0), (-2,1), (-1,0), (0,-3),\n",
    "    (-1,-4), (1,-4), (2,-3), (1,-2), (3,-1), (5,1)\n",
    "]"
   ]
  },
  {
   "cell_type": "code",
   "execution_count": 220,
   "id": "920bc00c",
   "metadata": {},
   "outputs": [
    {
     "data": {
      "image/png": "[encoded data removed]",
      "text/plain": [
       "<Figure size 432x365.538 with 1 Axes>"
      ]
     },
     "metadata": {
      "needs_background": "light"
     },
     "output_type": "display_data"
    }
   ],
   "source": [
    "draw(\n",
    "    Points(*dino_vectors),\n",
    "    Polygon(*dino_vectors)\n",
    ")"
   ]
  },
  {
   "cell_type": "code",
   "execution_count": 221,
   "id": "84e9b238",
   "metadata": {},
   "outputs": [],
   "source": [
    "from draw3d import *"
   ]
  },
  {
   "cell_type": "code",
   "execution_count": 222,
   "id": "8027eb69",
   "metadata": {},
   "outputs": [],
   "source": [
    "def polygon_segments_3d(points,color='blue'):\n",
    "    count = len(points)\n",
    "    return [Segment3D(points[i], points[(i+1) % count], color=color) for i in range(0,count)]"
   ]
  },
  {
   "cell_type": "code",
   "execution_count": 223,
   "id": "3c9015ca",
   "metadata": {},
   "outputs": [],
   "source": [
    "dino_3d = [(x,y,1) for x,y in dino_vectors]"
   ]
  },
  {
   "cell_type": "code",
   "execution_count": 224,
   "id": "85295713",
   "metadata": {},
   "outputs": [
    {
     "data": {
      "image/png": "[encoded data removed]",
      "text/plain": [
       "<Figure size 432x288 with 1 Axes>"
      ]
     },
     "metadata": {
      "needs_background": "light"
     },
     "output_type": "display_data"
    }
   ],
   "source": [
    "draw3d(\n",
    "    Points3D(*dino_3d, color='blue'),\n",
    "    *polygon_segments_3d(dino_3d)\n",
    ")"
   ]
  },
  {
   "cell_type": "code",
   "execution_count": 225,
   "id": "d6e19143",
   "metadata": {},
   "outputs": [],
   "source": [
    "magic_matrix = (\n",
    "    (1,0,3),\n",
    "    (0,1,1),\n",
    "    (0,0,1)\n",
    ")"
   ]
  },
  {
   "cell_type": "code",
   "execution_count": 226,
   "id": "50ced34d",
   "metadata": {},
   "outputs": [],
   "source": [
    "translated = [multiply_matrix_vector(magic_matrix, v) for v in dino_3d]"
   ]
  },
  {
   "cell_type": "code",
   "execution_count": 236,
   "id": "80b1d5ce",
   "metadata": {},
   "outputs": [
    {
     "name": "stdout",
     "output_type": "stream",
     "text": [
      "[(9, 5, 1), (6, 2, 1), (4, 3, 1), (2, 6, 1), (1, 6, 1), (0, 5, 1), (-1, 5, 1), (-2, 4, 1), (-2, 3, 1), (1, 3, 1), (-2, 2, 1), (-1, 1, 1), (1, 2, 1), (2, 1, 1), (3, -2, 1), (2, -3, 1), (4, -3, 1), (5, -2, 1), (4, -1, 1), (6, 0, 1), (8, 2, 1)]\n"
     ]
    }
   ],
   "source": [
    "d3D = translated\n",
    "print(d3D)\n",
    "c = len(d3D)\n",
    "d2D = "
   ]
  },
  {
   "cell_type": "code",
   "execution_count": 237,
   "id": "1823f892",
   "metadata": {},
   "outputs": [
    {
     "data": {
      "image/png": "[encoded data removed]",
      "text/plain": [
       "<Figure size 432x324 with 1 Axes>"
      ]
     },
     "metadata": {
      "needs_background": "light"
     },
     "output_type": "display_data"
    }
   ],
   "source": [
    "draw(\n",
    "    Points(*dino_vectors, color=blue),\n",
    "    Points(\n",
    "        *[(translated[i][:2]) for i in range(0,len(translated))], \n",
    "        color=red\n",
    "    )\n",
    ")"
   ]
  },
  {
   "cell_type": "code",
   "execution_count": 238,
   "id": "f0c28b87",
   "metadata": {},
   "outputs": [],
   "source": [
    "def translate_3d(translation):\n",
    "    def new_function(target):\n",
    "        a,b,c = translation\n",
    "        x,y,z = target\n",
    "        matrix = (\n",
    "            (1,0,0,a),\n",
    "            (0,1,0,b),\n",
    "            (0,0,1,c),\n",
    "            (0,0,0,1)\n",
    "        )\n",
    "        vector = (x,y,z,1)\n",
    "        x_out, y_out, z_out, _ = multiply_matrix_vector(matrix, vector)\n",
    "        return (x_out, y_out, z_out)\n",
    "    return new_function"
   ]
  },
  {
   "cell_type": "code",
   "execution_count": null,
   "id": "3741269b",
   "metadata": {},
   "outputs": [],
   "source": []
  }
 ],
 "metadata": {
  "kernelspec": {
   "display_name": "Python 3",
   "language": "python",
   "name": "python3"
  },
  "language_info": {
   "codemirror_mode": {
    "name": "ipython",
    "version": 3
   },
   "file_extension": ".py",
   "mimetype": "text/x-python",
   "name": "python",
   "nbconvert_exporter": "python",
   "pygments_lexer": "ipython3",
   "version": "3.8.5"
  }
 },
 "nbformat": 4,
 "nbformat_minor": 5
}
