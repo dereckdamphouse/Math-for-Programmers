{
 "cells": [
  {
   "cell_type": "code",
   "execution_count": 80,
   "id": "01ee3bc3",
   "metadata": {},
   "outputs": [],
   "source": [
    "import pygame, pygame.sndarray\n",
    "pygame.mixer.init(frequency=44100, size=-16, channels=2)"
   ]
  },
  {
   "cell_type": "code",
   "execution_count": 81,
   "id": "66be058b",
   "metadata": {},
   "outputs": [],
   "source": [
    "import numpy as np"
   ]
  },
  {
   "cell_type": "code",
   "execution_count": 82,
   "id": "d5263767",
   "metadata": {},
   "outputs": [],
   "source": [
    "arr = np.random.randint(-32768, 32767, size=44100)\n",
    "arr = np.repeat(arr.reshape(44100, 1), 2, axis = 1)"
   ]
  },
  {
   "cell_type": "code",
   "execution_count": 83,
   "id": "c02a49d7",
   "metadata": {},
   "outputs": [],
   "source": [
    "import matplotlib.pyplot as plt\n",
    "def plot_function(f,xmin,xmax,**kwargs):\n",
    "    ts = np.linspace(xmin,xmax,1000)\n",
    "    plt.plot(ts,[f(t) for t in ts],**kwargs)\n",
    "    \n",
    "def plot_sequence(points,max=100,line=False,**kwargs):\n",
    "    if line:\n",
    "        plt.plot(range(0,max),points[0:max],**kwargs)\n",
    "    else:\n",
    "        plt.scatter(range(0,max),points[0:max],**kwargs)"
   ]
  },
  {
   "cell_type": "code",
   "execution_count": 89,
   "id": "a9011725",
   "metadata": {},
   "outputs": [
    {
     "data": {
      "text/plain": [
       "<Channel at 0x1e070df5e30>"
      ]
     },
     "execution_count": 89,
     "metadata": {},
     "output_type": "execute_result"
    }
   ],
   "source": [
    "sound = pygame.sndarray.make_sound(arr)\n",
    "sound.play()"
   ]
  },
  {
   "cell_type": "code",
   "execution_count": 97,
   "id": "3de80b59",
   "metadata": {},
   "outputs": [],
   "source": [
    "form = np.repeat([10000,-10000],50)"
   ]
  },
  {
   "cell_type": "code",
   "execution_count": 98,
   "id": "fa43e564",
   "metadata": {},
   "outputs": [
    {
     "data": {
      "image/png": "[encoded data removed]",
      "text/plain": [
       "<Figure size 432x288 with 1 Axes>"
      ]
     },
     "metadata": {
      "needs_background": "light"
     },
     "output_type": "display_data"
    }
   ],
   "source": [
    "plot_sequence(form)"
   ]
  },
  {
   "cell_type": "code",
   "execution_count": 99,
   "id": "0d1a2752",
   "metadata": {},
   "outputs": [],
   "source": [
    "arr = np.tile(form,441)"
   ]
  },
  {
   "cell_type": "code",
   "execution_count": 100,
   "id": "d8a7eac6",
   "metadata": {},
   "outputs": [
    {
     "data": {
      "text/plain": [
       "<Channel at 0x1e070cb6b30>"
      ]
     },
     "execution_count": 100,
     "metadata": {},
     "output_type": "execute_result"
    }
   ],
   "source": [
    "arr = np.repeat(arr.reshape(44100, 1), 2, axis = 1)\n",
    "sound = pygame.sndarray.make_sound(arr)\n",
    "sound.play()"
   ]
  },
  {
   "cell_type": "code",
   "execution_count": 105,
   "id": "ba05a449",
   "metadata": {},
   "outputs": [],
   "source": [
    "form = np.repeat([10000,-10000],63)\n",
    "arr = np.tile(form,350)"
   ]
  },
  {
   "cell_type": "code",
   "execution_count": 106,
   "id": "0dad68fc",
   "metadata": {},
   "outputs": [
    {
     "data": {
      "text/plain": [
       "<Channel at 0x1e070cc6ed0>"
      ]
     },
     "execution_count": 106,
     "metadata": {},
     "output_type": "execute_result"
    }
   ],
   "source": [
    "arr = np.repeat(arr.reshape(44100, 1), 2, axis = 1)\n",
    "sound = pygame.sndarray.make_sound(arr)\n",
    "sound.play()"
   ]
  },
  {
   "cell_type": "code",
   "execution_count": 138,
   "id": "1db72473",
   "metadata": {},
   "outputs": [],
   "source": [
    "from math import pi, sin, cos, tan\n",
    "def make_sinusoid(frequency,amplitude):\n",
    "    def f(t):\n",
    "        return amplitude * sin(2*pi*frequency*t)\n",
    "    return f"
   ]
  },
  {
   "cell_type": "code",
   "execution_count": 139,
   "id": "d70493b9",
   "metadata": {},
   "outputs": [
    {
     "data": {
      "image/png": "[encoded data removed]",
      "text/plain": [
       "<Figure size 432x288 with 1 Axes>"
      ]
     },
     "metadata": {
      "needs_background": "light"
     },
     "output_type": "display_data"
    }
   ],
   "source": [
    "plot_function(make_sinusoid(5,4),0,1)"
   ]
  },
  {
   "cell_type": "code",
   "execution_count": 140,
   "id": "700350bb",
   "metadata": {},
   "outputs": [],
   "source": [
    "sinusoid = make_sinusoid(441,8000)"
   ]
  },
  {
   "cell_type": "code",
   "execution_count": 141,
   "id": "fb1cf36a",
   "metadata": {},
   "outputs": [],
   "source": [
    "def sample(f,start,end,count):\n",
    "    mapf = np.vectorize(f)\n",
    "    ts = np.arange(start,end,(end-start)/count)\n",
    "    values = mapf(ts)\n",
    "    values = values.astype(np.int16)\n",
    "    return np.repeat(values.reshape(44100, 1), 2, axis = 1)"
   ]
  },
  {
   "cell_type": "code",
   "execution_count": 142,
   "id": "e13ea8f2",
   "metadata": {},
   "outputs": [],
   "source": [
    "arr = sample(sinusoid,0,1,44100)"
   ]
  },
  {
   "cell_type": "code",
   "execution_count": 143,
   "id": "b41c7a89",
   "metadata": {},
   "outputs": [
    {
     "data": {
      "text/plain": [
       "<Channel at 0x1e070891db0>"
      ]
     },
     "execution_count": 143,
     "metadata": {},
     "output_type": "execute_result"
    }
   ],
   "source": [
    "sound = pygame.sndarray.make_sound(arr)\n",
    "sound.play()"
   ]
  },
  {
   "cell_type": "code",
   "execution_count": 144,
   "id": "634b4a3e",
   "metadata": {},
   "outputs": [],
   "source": [
    "def tangent_function(t):\n",
    "    return sin(2*pi*t) / cos(2*pi*t)"
   ]
  },
  {
   "cell_type": "code",
   "execution_count": 145,
   "id": "15f00e30",
   "metadata": {},
   "outputs": [
    {
     "data": {
      "image/png": "[encoded data removed]",
      "text/plain": [
       "<Figure size 432x288 with 1 Axes>"
      ]
     },
     "metadata": {
      "needs_background": "light"
     },
     "output_type": "display_data"
    }
   ],
   "source": [
    "plot_function(tangent_function,0,5)"
   ]
  },
  {
   "cell_type": "code",
   "execution_count": 146,
   "id": "b35e6d51",
   "metadata": {},
   "outputs": [
    {
     "data": {
      "text/plain": [
       "(-10.0, 10.0)"
      ]
     },
     "execution_count": 146,
     "metadata": {},
     "output_type": "execute_result"
    },
    {
     "data": {
      "image/png": "[encoded data removed]",
      "text/plain": [
       "<Figure size 432x288 with 1 Axes>"
      ]
     },
     "metadata": {
      "needs_background": "light"
     },
     "output_type": "display_data"
    }
   ],
   "source": [
    "plot_function(tan,0,5*pi)\n",
    "plt.ylim(-10,10)"
   ]
  },
  {
   "cell_type": "code",
   "execution_count": 147,
   "id": "1ff31bca",
   "metadata": {},
   "outputs": [],
   "source": [
    "def cos_function(t):\n",
    "    return cos(10*pi*t)"
   ]
  },
  {
   "cell_type": "code",
   "execution_count": 148,
   "id": "2919d7da",
   "metadata": {},
   "outputs": [
    {
     "data": {
      "image/png": "[encoded data removed]",
      "text/plain": [
       "<Figure size 432x288 with 1 Axes>"
      ]
     },
     "metadata": {
      "needs_background": "light"
     },
     "output_type": "display_data"
    }
   ],
   "source": [
    "plot_function(cos_function,0,1)"
   ]
  },
  {
   "cell_type": "code",
   "execution_count": 149,
   "id": "57c6224d",
   "metadata": {},
   "outputs": [],
   "source": [
    "def const(n):\n",
    "    return 1"
   ]
  },
  {
   "cell_type": "code",
   "execution_count": 150,
   "id": "1286fd4c",
   "metadata": {},
   "outputs": [],
   "source": [
    "def fourier_series(a0,a,b):\n",
    "    def result(t):\n",
    "        cos_terms = [an*cos(2*pi*(n+1)*t) for (n,an) in enumerate(a)]\n",
    "        sin_terms = [bn*sin(2*pi*(n+1)*t) for (n,bn) in enumerate(b)]\n",
    "        return a0*const(t) + sum(cos_terms) + sum(sin_terms)\n",
    "    return result"
   ]
  },
  {
   "cell_type": "code",
   "execution_count": 151,
   "id": "f31fd3d4",
   "metadata": {},
   "outputs": [],
   "source": [
    "f = fourier_series(0,[0,0,0,0,0],[0,0,0,1,1])"
   ]
  },
  {
   "cell_type": "code",
   "execution_count": 152,
   "id": "3958fc22",
   "metadata": {},
   "outputs": [
    {
     "data": {
      "image/png": "[encoded data removed]",
      "text/plain": [
       "<Figure size 432x288 with 1 Axes>"
      ]
     },
     "metadata": {
      "needs_background": "light"
     },
     "output_type": "display_data"
    }
   ],
   "source": [
    "plot_function(f,0,1)"
   ]
  },
  {
   "cell_type": "code",
   "execution_count": 165,
   "id": "72859ec0",
   "metadata": {},
   "outputs": [],
   "source": [
    "def inner_product(f,g,N=1000):\n",
    "    dt = 1/N\n",
    "    return 2*sum([f(t)*g(t)*dt for t in np.arange(0,1,dt)])"
   ]
  },
  {
   "cell_type": "code",
   "execution_count": 166,
   "id": "67e6ce0b",
   "metadata": {},
   "outputs": [],
   "source": [
    "def s(n):\n",
    "    def f(t):\n",
    "        return sin(2*pi*n*t)\n",
    "    return f"
   ]
  },
  {
   "cell_type": "code",
   "execution_count": 167,
   "id": "9f0afe87",
   "metadata": {},
   "outputs": [],
   "source": [
    "def c(n):\n",
    "    def f(t):\n",
    "        return cos(2*pi*n*t)\n",
    "    return f"
   ]
  },
  {
   "cell_type": "code",
   "execution_count": 168,
   "id": "c6687ce1",
   "metadata": {},
   "outputs": [
    {
     "data": {
      "text/plain": [
       "4.2197487366314734e-17"
      ]
     },
     "execution_count": 168,
     "metadata": {},
     "output_type": "execute_result"
    }
   ],
   "source": [
    "inner_product(s(1),c(1))"
   ]
  },
  {
   "cell_type": "code",
   "execution_count": 169,
   "id": "3d109439",
   "metadata": {},
   "outputs": [
    {
     "data": {
      "text/plain": [
       "1.0000000000000002"
      ]
     },
     "execution_count": 169,
     "metadata": {},
     "output_type": "execute_result"
    }
   ],
   "source": [
    "inner_product(s(1),s(1))"
   ]
  },
  {
   "cell_type": "code",
   "execution_count": 170,
   "id": "51e3d00b",
   "metadata": {},
   "outputs": [],
   "source": [
    "from math import sqrt"
   ]
  },
  {
   "cell_type": "code",
   "execution_count": 171,
   "id": "c3c7f7eb",
   "metadata": {},
   "outputs": [],
   "source": [
    "def const(n):\n",
    "    return 1 / sqrt(2)"
   ]
  },
  {
   "cell_type": "code",
   "execution_count": 172,
   "id": "ab07ac1f",
   "metadata": {},
   "outputs": [],
   "source": [
    "def fourier_coefficients(f,N):\n",
    "    a0 = inner_product(f,const)\n",
    "    an = [inner_product(f,c(n)) for n in range(1,N+1)]\n",
    "    bn = [inner_product(f,s(n)) for n in range(1,N+1)]\n",
    "    return a0, an, bn"
   ]
  },
  {
   "cell_type": "code",
   "execution_count": 173,
   "id": "665294f7",
   "metadata": {},
   "outputs": [],
   "source": [
    "f = fourier_series(0, [2,3,4], [5,6,7])"
   ]
  },
  {
   "cell_type": "code",
   "execution_count": 174,
   "id": "1dce51c7",
   "metadata": {},
   "outputs": [
    {
     "data": {
      "text/plain": [
       "(-3.812922200197022e-15,\n",
       " [1.9999999999999887, 2.999999999999999, 4.0],\n",
       " [5.000000000000002, 6.000000000000001, 7.0000000000000036])"
      ]
     },
     "execution_count": 174,
     "metadata": {},
     "output_type": "execute_result"
    }
   ],
   "source": [
    "fourier_coefficients(f,3)"
   ]
  },
  {
   "cell_type": "code",
   "execution_count": 175,
   "id": "249cf2b8",
   "metadata": {},
   "outputs": [],
   "source": [
    "def square(t):\n",
    "    return 1 if (t%1) < 0.5 el se -1"
   ]
  },
  {
   "cell_type": "code",
   "execution_count": 178,
   "id": "8db701f9",
   "metadata": {},
   "outputs": [],
   "source": [
    "a0,a,b = fourier_coefficients(square,10)"
   ]
  },
  {
   "cell_type": "code",
   "execution_count": 179,
   "id": "9f0e8cbe",
   "metadata": {},
   "outputs": [
    {
     "data": {
      "text/plain": [
       "(0.2546269646514865, 0.25464790894703254)"
      ]
     },
     "execution_count": 179,
     "metadata": {},
     "output_type": "execute_result"
    }
   ],
   "source": [
    "b[4], 4/(5*pi)"
   ]
  },
  {
   "cell_type": "code",
   "execution_count": 180,
   "id": "d9f57860",
   "metadata": {},
   "outputs": [],
   "source": [
    "def sawtooth(t):\n",
    "    return t%1"
   ]
  },
  {
   "cell_type": "code",
   "execution_count": 181,
   "id": "7f554668",
   "metadata": {},
   "outputs": [],
   "source": [
    "def modified_sawtooth(t):\n",
    "    return 8000 * sawtooth(441*t)"
   ]
  },
  {
   "cell_type": "code",
   "execution_count": 182,
   "id": "adf4b10d",
   "metadata": {},
   "outputs": [],
   "source": [
    "arr = sample(modified_sawtooth,0,1,44100)"
   ]
  },
  {
   "cell_type": "code",
   "execution_count": 183,
   "id": "46e55ec9",
   "metadata": {},
   "outputs": [
    {
     "data": {
      "text/plain": [
       "<Channel at 0x1e070beadb0>"
      ]
     },
     "execution_count": 183,
     "metadata": {},
     "output_type": "execute_result"
    }
   ],
   "source": [
    "sound = pygame.sndarray.make_sound(arr)\n",
    "sound.play()"
   ]
  },
  {
   "cell_type": "code",
   "execution_count": null,
   "id": "6ebe8456",
   "metadata": {},
   "outputs": [],
   "source": [
    "  "
   ]
  }
 ],
 "metadata": {
  "kernelspec": {
   "display_name": "Python 3",
   "language": "python",
   "name": "python3"
  },
  "language_info": {
   "codemirror_mode": {
    "name": "ipython",
    "version": 3
   },
   "file_extension": ".py",
   "mimetype": "text/x-python",
   "name": "python",
   "nbconvert_exporter": "python",
   "pygments_lexer": "ipython3",
   "version": "3.9.4"
  }
 },
 "nbformat": 4,
 "nbformat_minor": 5
}
